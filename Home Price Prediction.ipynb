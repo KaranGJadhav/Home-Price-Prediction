{
 "cells": [
  {
   "cell_type": "markdown",
   "metadata": {},
   "source": [
    "\n",
    "Objective of the problem is to predict(Quote) the price of the home to be sold in particular area to the customer "
   ]
  },
  {
   "cell_type": "code",
   "execution_count": 71,
   "metadata": {},
   "outputs": [],
   "source": [
    "#Import the packages required to analyse the dataset in hand\n",
    "import pandas as pd\n",
    "import numpy as np"
   ]
  },
  {
   "cell_type": "code",
   "execution_count": 72,
   "metadata": {},
   "outputs": [],
   "source": [
    "#Import the dataset\n",
    "home=pd.read_csv(r'G:\\ML\\Datasets\\home prices.csv')"
   ]
  },
  {
   "cell_type": "code",
   "execution_count": 73,
   "metadata": {
    "scrolled": true
   },
   "outputs": [
    {
     "data": {
      "text/html": [
       "<div>\n",
       "<style scoped>\n",
       "    .dataframe tbody tr th:only-of-type {\n",
       "        vertical-align: middle;\n",
       "    }\n",
       "\n",
       "    .dataframe tbody tr th {\n",
       "        vertical-align: top;\n",
       "    }\n",
       "\n",
       "    .dataframe thead th {\n",
       "        text-align: right;\n",
       "    }\n",
       "</style>\n",
       "<table border=\"1\" class=\"dataframe\">\n",
       "  <thead>\n",
       "    <tr style=\"text-align: right;\">\n",
       "      <th></th>\n",
       "      <th>Unnamed: 0</th>\n",
       "      <th>address</th>\n",
       "      <th>info</th>\n",
       "      <th>z_address</th>\n",
       "      <th>bathrooms</th>\n",
       "      <th>bedrooms</th>\n",
       "      <th>finishedsqft</th>\n",
       "      <th>lastsolddate</th>\n",
       "      <th>lastsoldprice</th>\n",
       "      <th>latitude</th>\n",
       "      <th>longitude</th>\n",
       "      <th>neighborhood</th>\n",
       "      <th>totalrooms</th>\n",
       "      <th>usecode</th>\n",
       "      <th>yearbuilt</th>\n",
       "      <th>zestimate</th>\n",
       "      <th>zindexvalue</th>\n",
       "      <th>zipcode</th>\n",
       "      <th>zpid</th>\n",
       "    </tr>\n",
       "  </thead>\n",
       "  <tbody>\n",
       "    <tr>\n",
       "      <th>0</th>\n",
       "      <td>2</td>\n",
       "      <td>Address: 1160 Mission Street #2007</td>\n",
       "      <td>San FranciscoSales price: 1300000Sales date: ...</td>\n",
       "      <td>1160 Mission St UNIT 2007</td>\n",
       "      <td>2.0</td>\n",
       "      <td>2</td>\n",
       "      <td>1043</td>\n",
       "      <td>02/17/2016</td>\n",
       "      <td>1300000</td>\n",
       "      <td>37.778705</td>\n",
       "      <td>-122.412635</td>\n",
       "      <td>South of Market</td>\n",
       "      <td>4</td>\n",
       "      <td>Condominium</td>\n",
       "      <td>2007</td>\n",
       "      <td>1167508</td>\n",
       "      <td>975,700</td>\n",
       "      <td>94103</td>\n",
       "      <td>83152781</td>\n",
       "    </tr>\n",
       "    <tr>\n",
       "      <th>1</th>\n",
       "      <td>5</td>\n",
       "      <td>Address: 260 King Street #475</td>\n",
       "      <td>San FranciscoSales price: 750000Sales date: 0...</td>\n",
       "      <td>260 King St UNIT 475</td>\n",
       "      <td>1.0</td>\n",
       "      <td>1</td>\n",
       "      <td>903</td>\n",
       "      <td>02/17/2016</td>\n",
       "      <td>750000</td>\n",
       "      <td>37.777641</td>\n",
       "      <td>-122.393417</td>\n",
       "      <td>South of Market</td>\n",
       "      <td>3</td>\n",
       "      <td>Condominium</td>\n",
       "      <td>2004</td>\n",
       "      <td>823719</td>\n",
       "      <td>975,700</td>\n",
       "      <td>94107</td>\n",
       "      <td>69819817</td>\n",
       "    </tr>\n",
       "    <tr>\n",
       "      <th>2</th>\n",
       "      <td>7</td>\n",
       "      <td>Address: 560 Missouri Street #B</td>\n",
       "      <td>San FranciscoSales price: 1495000Sales date: ...</td>\n",
       "      <td>560 Missouri St # B</td>\n",
       "      <td>4.0</td>\n",
       "      <td>3</td>\n",
       "      <td>1425</td>\n",
       "      <td>02/17/2016</td>\n",
       "      <td>1495000</td>\n",
       "      <td>37.759198</td>\n",
       "      <td>-122.396516</td>\n",
       "      <td>Potrero Hill</td>\n",
       "      <td>6</td>\n",
       "      <td>Condominium</td>\n",
       "      <td>2003</td>\n",
       "      <td>1708594</td>\n",
       "      <td>1,277,600</td>\n",
       "      <td>94107</td>\n",
       "      <td>64972847</td>\n",
       "    </tr>\n",
       "    <tr>\n",
       "      <th>3</th>\n",
       "      <td>9</td>\n",
       "      <td>Address: 350 Missouri Street</td>\n",
       "      <td>San FranciscoSales price: 2700000Sales date: ...</td>\n",
       "      <td>350 Missouri St</td>\n",
       "      <td>3.0</td>\n",
       "      <td>3</td>\n",
       "      <td>2231</td>\n",
       "      <td>02/17/2016</td>\n",
       "      <td>2700000</td>\n",
       "      <td>37.761886</td>\n",
       "      <td>-122.396769</td>\n",
       "      <td>Potrero Hill</td>\n",
       "      <td>10</td>\n",
       "      <td>SingleFamily</td>\n",
       "      <td>1927</td>\n",
       "      <td>2411236</td>\n",
       "      <td>1,277,600</td>\n",
       "      <td>94107</td>\n",
       "      <td>15149489</td>\n",
       "    </tr>\n",
       "    <tr>\n",
       "      <th>4</th>\n",
       "      <td>11</td>\n",
       "      <td>Address: 3658 Folsom Street</td>\n",
       "      <td>San FranciscoSales price: 1530000Sales date: ...</td>\n",
       "      <td>3658 Folsom St</td>\n",
       "      <td>3.0</td>\n",
       "      <td>3</td>\n",
       "      <td>1300</td>\n",
       "      <td>02/17/2016</td>\n",
       "      <td>1530000</td>\n",
       "      <td>37.740795</td>\n",
       "      <td>-122.413453</td>\n",
       "      <td>Bernal Heights</td>\n",
       "      <td>4</td>\n",
       "      <td>SingleFamily</td>\n",
       "      <td>1900</td>\n",
       "      <td>1918539</td>\n",
       "      <td>1,248,000</td>\n",
       "      <td>94110</td>\n",
       "      <td>15161978</td>\n",
       "    </tr>\n",
       "  </tbody>\n",
       "</table>\n",
       "</div>"
      ],
      "text/plain": [
       "   Unnamed: 0                             address  \\\n",
       "0           2  Address: 1160 Mission Street #2007   \n",
       "1           5       Address: 260 King Street #475   \n",
       "2           7     Address: 560 Missouri Street #B   \n",
       "3           9        Address: 350 Missouri Street   \n",
       "4          11         Address: 3658 Folsom Street   \n",
       "\n",
       "                                                info  \\\n",
       "0   San FranciscoSales price: 1300000Sales date: ...   \n",
       "1   San FranciscoSales price: 750000Sales date: 0...   \n",
       "2   San FranciscoSales price: 1495000Sales date: ...   \n",
       "3   San FranciscoSales price: 2700000Sales date: ...   \n",
       "4   San FranciscoSales price: 1530000Sales date: ...   \n",
       "\n",
       "                   z_address  bathrooms  bedrooms  finishedsqft lastsolddate  \\\n",
       "0  1160 Mission St UNIT 2007        2.0         2          1043   02/17/2016   \n",
       "1       260 King St UNIT 475        1.0         1           903   02/17/2016   \n",
       "2        560 Missouri St # B        4.0         3          1425   02/17/2016   \n",
       "3            350 Missouri St        3.0         3          2231   02/17/2016   \n",
       "4             3658 Folsom St        3.0         3          1300   02/17/2016   \n",
       "\n",
       "   lastsoldprice   latitude   longitude     neighborhood  totalrooms  \\\n",
       "0        1300000  37.778705 -122.412635  South of Market           4   \n",
       "1         750000  37.777641 -122.393417  South of Market           3   \n",
       "2        1495000  37.759198 -122.396516     Potrero Hill           6   \n",
       "3        2700000  37.761886 -122.396769     Potrero Hill          10   \n",
       "4        1530000  37.740795 -122.413453   Bernal Heights           4   \n",
       "\n",
       "        usecode  yearbuilt  zestimate zindexvalue  zipcode      zpid  \n",
       "0   Condominium       2007    1167508     975,700    94103  83152781  \n",
       "1   Condominium       2004     823719     975,700    94107  69819817  \n",
       "2   Condominium       2003    1708594   1,277,600    94107  64972847  \n",
       "3  SingleFamily       1927    2411236   1,277,600    94107  15149489  \n",
       "4  SingleFamily       1900    1918539   1,248,000    94110  15161978  "
      ]
     },
     "execution_count": 73,
     "metadata": {},
     "output_type": "execute_result"
    }
   ],
   "source": [
    "#View the dataset\n",
    "home.head(5)"
   ]
  },
  {
   "cell_type": "code",
   "execution_count": 74,
   "metadata": {},
   "outputs": [
    {
     "data": {
      "text/plain": [
       "215270"
      ]
     },
     "execution_count": 74,
     "metadata": {},
     "output_type": "execute_result"
    }
   ],
   "source": [
    "#Check the size\n",
    "home.size\n"
   ]
  },
  {
   "cell_type": "code",
   "execution_count": 75,
   "metadata": {},
   "outputs": [
    {
     "data": {
      "text/plain": [
       "(11330, 19)"
      ]
     },
     "execution_count": 75,
     "metadata": {},
     "output_type": "execute_result"
    }
   ],
   "source": [
    "#Check the shape of the dataset\n",
    "home.shape\n",
    "#Dataset is a two dimensional array "
   ]
  },
  {
   "cell_type": "code",
   "execution_count": 76,
   "metadata": {},
   "outputs": [
    {
     "data": {
      "text/plain": [
       "Index(['Unnamed: 0', 'address', 'info', 'z_address', 'bathrooms', 'bedrooms',\n",
       "       'finishedsqft', 'lastsolddate', 'lastsoldprice', 'latitude',\n",
       "       'longitude', 'neighborhood', 'totalrooms', 'usecode', 'yearbuilt',\n",
       "       'zestimate', 'zindexvalue', 'zipcode', 'zpid'],\n",
       "      dtype='object')"
      ]
     },
     "execution_count": 76,
     "metadata": {},
     "output_type": "execute_result"
    }
   ],
   "source": [
    "#Columns present\n",
    "home.columns"
   ]
  },
  {
   "cell_type": "code",
   "execution_count": 77,
   "metadata": {},
   "outputs": [
    {
     "data": {
      "text/plain": [
       "Unnamed: 0       0\n",
       "address          0\n",
       "info             0\n",
       "z_address        0\n",
       "bathrooms        0\n",
       "bedrooms         0\n",
       "finishedsqft     0\n",
       "lastsolddate     0\n",
       "lastsoldprice    0\n",
       "latitude         0\n",
       "longitude        0\n",
       "neighborhood     0\n",
       "totalrooms       0\n",
       "usecode          0\n",
       "yearbuilt        0\n",
       "zestimate        0\n",
       "zindexvalue      0\n",
       "zipcode          0\n",
       "zpid             0\n",
       "dtype: int64"
      ]
     },
     "execution_count": 77,
     "metadata": {},
     "output_type": "execute_result"
    }
   ],
   "source": [
    "#checking for each observation\n",
    "pd.isnull(home).sum()\n",
    "#Ironically we donot have any empty values for any of the 19 features"
   ]
  },
  {
   "cell_type": "code",
   "execution_count": 78,
   "metadata": {},
   "outputs": [
    {
     "name": "stdout",
     "output_type": "stream",
     "text": [
      "<class 'pandas.core.frame.DataFrame'>\n",
      "RangeIndex: 11330 entries, 0 to 11329\n",
      "Data columns (total 19 columns):\n",
      "Unnamed: 0       11330 non-null int64\n",
      "address          11330 non-null object\n",
      "info             11330 non-null object\n",
      "z_address        11330 non-null object\n",
      "bathrooms        11330 non-null float64\n",
      "bedrooms         11330 non-null int64\n",
      "finishedsqft     11330 non-null int64\n",
      "lastsolddate     11330 non-null object\n",
      "lastsoldprice    11330 non-null int64\n",
      "latitude         11330 non-null float64\n",
      "longitude        11330 non-null float64\n",
      "neighborhood     11330 non-null object\n",
      "totalrooms       11330 non-null int64\n",
      "usecode          11330 non-null object\n",
      "yearbuilt        11330 non-null int64\n",
      "zestimate        11330 non-null int64\n",
      "zindexvalue      11330 non-null object\n",
      "zipcode          11330 non-null int64\n",
      "zpid             11330 non-null int64\n",
      "dtypes: float64(3), int64(9), object(7)\n",
      "memory usage: 1.6+ MB\n"
     ]
    }
   ],
   "source": [
    "#check for the data types\n",
    "home.info()"
   ]
  },
  {
   "cell_type": "markdown",
   "metadata": {},
   "source": [
    "Looking at the data above we have the folloing observations for the data we are dealing with! \n",
    "1. There are 215270 total records available\n",
    "2. 11330 observations and 19 features\n",
    "3. Neighbourhood,usecode features are categorical data\n",
    "3. bathrooms,bedrooms,finishedsqft,lastsoldprice,latitude,longitude,yearbuilt,zpid,zipcode,zindexvalue,zestimate,totalrooms features are numeric values\n",
    "4. Unnamed,address,info,z_address features are alphanumeric values\n",
    "5. There are no empty values for any of the features\n",
    "6. We have combination of categorical,numerical and alpha numeric values\n",
    "7. Our target variable(dependent variable) is lastsoldprice and based on that we have to predict the price of the home\n"
   ]
  },
  {
   "cell_type": "code",
   "execution_count": 79,
   "metadata": {},
   "outputs": [
    {
     "data": {
      "text/html": [
       "<div>\n",
       "<style scoped>\n",
       "    .dataframe tbody tr th:only-of-type {\n",
       "        vertical-align: middle;\n",
       "    }\n",
       "\n",
       "    .dataframe tbody tr th {\n",
       "        vertical-align: top;\n",
       "    }\n",
       "\n",
       "    .dataframe thead th {\n",
       "        text-align: right;\n",
       "    }\n",
       "</style>\n",
       "<table border=\"1\" class=\"dataframe\">\n",
       "  <thead>\n",
       "    <tr style=\"text-align: right;\">\n",
       "      <th></th>\n",
       "      <th>Unnamed: 0</th>\n",
       "      <th>bathrooms</th>\n",
       "      <th>bedrooms</th>\n",
       "      <th>finishedsqft</th>\n",
       "      <th>lastsoldprice</th>\n",
       "      <th>latitude</th>\n",
       "      <th>longitude</th>\n",
       "      <th>totalrooms</th>\n",
       "      <th>yearbuilt</th>\n",
       "      <th>zestimate</th>\n",
       "      <th>zipcode</th>\n",
       "      <th>zpid</th>\n",
       "    </tr>\n",
       "  </thead>\n",
       "  <tbody>\n",
       "    <tr>\n",
       "      <th>count</th>\n",
       "      <td>11330.000000</td>\n",
       "      <td>11330.000000</td>\n",
       "      <td>11330.000000</td>\n",
       "      <td>11330.000000</td>\n",
       "      <td>1.133000e+04</td>\n",
       "      <td>11330.000000</td>\n",
       "      <td>11330.000000</td>\n",
       "      <td>11330.000000</td>\n",
       "      <td>11330.000000</td>\n",
       "      <td>1.133000e+04</td>\n",
       "      <td>11330.000000</td>\n",
       "      <td>1.133000e+04</td>\n",
       "    </tr>\n",
       "    <tr>\n",
       "      <th>mean</th>\n",
       "      <td>9171.729214</td>\n",
       "      <td>1.980229</td>\n",
       "      <td>2.614475</td>\n",
       "      <td>1585.420918</td>\n",
       "      <td>1.263928e+06</td>\n",
       "      <td>37.759711</td>\n",
       "      <td>-122.436518</td>\n",
       "      <td>6.111562</td>\n",
       "      <td>1948.498147</td>\n",
       "      <td>1.565695e+06</td>\n",
       "      <td>94116.912004</td>\n",
       "      <td>3.689973e+07</td>\n",
       "    </tr>\n",
       "    <tr>\n",
       "      <th>std</th>\n",
       "      <td>4921.941074</td>\n",
       "      <td>1.047358</td>\n",
       "      <td>1.299457</td>\n",
       "      <td>921.978245</td>\n",
       "      <td>1.042079e+06</td>\n",
       "      <td>0.025578</td>\n",
       "      <td>0.030743</td>\n",
       "      <td>12.125819</td>\n",
       "      <td>37.911196</td>\n",
       "      <td>1.229417e+06</td>\n",
       "      <td>9.400877</td>\n",
       "      <td>7.800741e+07</td>\n",
       "    </tr>\n",
       "    <tr>\n",
       "      <th>min</th>\n",
       "      <td>2.000000</td>\n",
       "      <td>0.500000</td>\n",
       "      <td>0.000000</td>\n",
       "      <td>1.000000</td>\n",
       "      <td>5.350000e+02</td>\n",
       "      <td>37.708170</td>\n",
       "      <td>-122.510726</td>\n",
       "      <td>1.000000</td>\n",
       "      <td>1860.000000</td>\n",
       "      <td>4.323850e+05</td>\n",
       "      <td>94102.000000</td>\n",
       "      <td>1.506329e+07</td>\n",
       "    </tr>\n",
       "    <tr>\n",
       "      <th>25%</th>\n",
       "      <td>5039.750000</td>\n",
       "      <td>1.000000</td>\n",
       "      <td>2.000000</td>\n",
       "      <td>1019.000000</td>\n",
       "      <td>7.292500e+05</td>\n",
       "      <td>37.739286</td>\n",
       "      <td>-122.455157</td>\n",
       "      <td>4.000000</td>\n",
       "      <td>1916.000000</td>\n",
       "      <td>9.052375e+05</td>\n",
       "      <td>94110.000000</td>\n",
       "      <td>1.510847e+07</td>\n",
       "    </tr>\n",
       "    <tr>\n",
       "      <th>50%</th>\n",
       "      <td>9198.500000</td>\n",
       "      <td>2.000000</td>\n",
       "      <td>2.000000</td>\n",
       "      <td>1362.000000</td>\n",
       "      <td>9.900000e+05</td>\n",
       "      <td>37.760513</td>\n",
       "      <td>-122.432510</td>\n",
       "      <td>5.000000</td>\n",
       "      <td>1940.000000</td>\n",
       "      <td>1.230758e+06</td>\n",
       "      <td>94115.000000</td>\n",
       "      <td>1.515697e+07</td>\n",
       "    </tr>\n",
       "    <tr>\n",
       "      <th>75%</th>\n",
       "      <td>13374.750000</td>\n",
       "      <td>2.000000</td>\n",
       "      <td>3.000000</td>\n",
       "      <td>1876.000000</td>\n",
       "      <td>1.450000e+06</td>\n",
       "      <td>37.781386</td>\n",
       "      <td>-122.413359</td>\n",
       "      <td>7.000000</td>\n",
       "      <td>1986.000000</td>\n",
       "      <td>1.731170e+06</td>\n",
       "      <td>94123.000000</td>\n",
       "      <td>5.970040e+07</td>\n",
       "    </tr>\n",
       "    <tr>\n",
       "      <th>max</th>\n",
       "      <td>17632.000000</td>\n",
       "      <td>14.000000</td>\n",
       "      <td>20.000000</td>\n",
       "      <td>27275.000000</td>\n",
       "      <td>2.388900e+07</td>\n",
       "      <td>37.806083</td>\n",
       "      <td>-122.381201</td>\n",
       "      <td>1264.000000</td>\n",
       "      <td>2016.000000</td>\n",
       "      <td>1.553325e+07</td>\n",
       "      <td>94158.000000</td>\n",
       "      <td>2.146999e+09</td>\n",
       "    </tr>\n",
       "  </tbody>\n",
       "</table>\n",
       "</div>"
      ],
      "text/plain": [
       "         Unnamed: 0     bathrooms      bedrooms  finishedsqft  lastsoldprice  \\\n",
       "count  11330.000000  11330.000000  11330.000000  11330.000000   1.133000e+04   \n",
       "mean    9171.729214      1.980229      2.614475   1585.420918   1.263928e+06   \n",
       "std     4921.941074      1.047358      1.299457    921.978245   1.042079e+06   \n",
       "min        2.000000      0.500000      0.000000      1.000000   5.350000e+02   \n",
       "25%     5039.750000      1.000000      2.000000   1019.000000   7.292500e+05   \n",
       "50%     9198.500000      2.000000      2.000000   1362.000000   9.900000e+05   \n",
       "75%    13374.750000      2.000000      3.000000   1876.000000   1.450000e+06   \n",
       "max    17632.000000     14.000000     20.000000  27275.000000   2.388900e+07   \n",
       "\n",
       "           latitude     longitude    totalrooms     yearbuilt     zestimate  \\\n",
       "count  11330.000000  11330.000000  11330.000000  11330.000000  1.133000e+04   \n",
       "mean      37.759711   -122.436518      6.111562   1948.498147  1.565695e+06   \n",
       "std        0.025578      0.030743     12.125819     37.911196  1.229417e+06   \n",
       "min       37.708170   -122.510726      1.000000   1860.000000  4.323850e+05   \n",
       "25%       37.739286   -122.455157      4.000000   1916.000000  9.052375e+05   \n",
       "50%       37.760513   -122.432510      5.000000   1940.000000  1.230758e+06   \n",
       "75%       37.781386   -122.413359      7.000000   1986.000000  1.731170e+06   \n",
       "max       37.806083   -122.381201   1264.000000   2016.000000  1.553325e+07   \n",
       "\n",
       "            zipcode          zpid  \n",
       "count  11330.000000  1.133000e+04  \n",
       "mean   94116.912004  3.689973e+07  \n",
       "std        9.400877  7.800741e+07  \n",
       "min    94102.000000  1.506329e+07  \n",
       "25%    94110.000000  1.510847e+07  \n",
       "50%    94115.000000  1.515697e+07  \n",
       "75%    94123.000000  5.970040e+07  \n",
       "max    94158.000000  2.146999e+09  "
      ]
     },
     "execution_count": 79,
     "metadata": {},
     "output_type": "execute_result"
    }
   ],
   "source": [
    "#Let us look at the dataset\n",
    "home.describe()"
   ]
  },
  {
   "cell_type": "code",
   "execution_count": 80,
   "metadata": {
    "scrolled": false
   },
   "outputs": [
    {
     "data": {
      "text/html": [
       "<div>\n",
       "<style scoped>\n",
       "    .dataframe tbody tr th:only-of-type {\n",
       "        vertical-align: middle;\n",
       "    }\n",
       "\n",
       "    .dataframe tbody tr th {\n",
       "        vertical-align: top;\n",
       "    }\n",
       "\n",
       "    .dataframe thead th {\n",
       "        text-align: right;\n",
       "    }\n",
       "</style>\n",
       "<table border=\"1\" class=\"dataframe\">\n",
       "  <thead>\n",
       "    <tr style=\"text-align: right;\">\n",
       "      <th></th>\n",
       "      <th>Unnamed: 0</th>\n",
       "      <th>address</th>\n",
       "      <th>info</th>\n",
       "      <th>z_address</th>\n",
       "      <th>bathrooms</th>\n",
       "      <th>bedrooms</th>\n",
       "      <th>finishedsqft</th>\n",
       "      <th>lastsolddate</th>\n",
       "      <th>lastsoldprice</th>\n",
       "      <th>latitude</th>\n",
       "      <th>longitude</th>\n",
       "      <th>neighborhood</th>\n",
       "      <th>totalrooms</th>\n",
       "      <th>usecode</th>\n",
       "      <th>yearbuilt</th>\n",
       "      <th>zestimate</th>\n",
       "      <th>zindexvalue</th>\n",
       "      <th>zipcode</th>\n",
       "      <th>zpid</th>\n",
       "    </tr>\n",
       "  </thead>\n",
       "  <tbody>\n",
       "    <tr>\n",
       "      <th>0</th>\n",
       "      <td>2</td>\n",
       "      <td>Address: 1160 Mission Street #2007</td>\n",
       "      <td>San FranciscoSales price: 1300000Sales date: ...</td>\n",
       "      <td>1160 Mission St UNIT 2007</td>\n",
       "      <td>2.0</td>\n",
       "      <td>2</td>\n",
       "      <td>1043</td>\n",
       "      <td>02/17/2016</td>\n",
       "      <td>1300000</td>\n",
       "      <td>37.778705</td>\n",
       "      <td>-122.412635</td>\n",
       "      <td>South of Market</td>\n",
       "      <td>4</td>\n",
       "      <td>Condominium</td>\n",
       "      <td>2007</td>\n",
       "      <td>1167508</td>\n",
       "      <td>975,700</td>\n",
       "      <td>94103</td>\n",
       "      <td>83152781</td>\n",
       "    </tr>\n",
       "    <tr>\n",
       "      <th>1</th>\n",
       "      <td>5</td>\n",
       "      <td>Address: 260 King Street #475</td>\n",
       "      <td>San FranciscoSales price: 750000Sales date: 0...</td>\n",
       "      <td>260 King St UNIT 475</td>\n",
       "      <td>1.0</td>\n",
       "      <td>1</td>\n",
       "      <td>903</td>\n",
       "      <td>02/17/2016</td>\n",
       "      <td>750000</td>\n",
       "      <td>37.777641</td>\n",
       "      <td>-122.393417</td>\n",
       "      <td>South of Market</td>\n",
       "      <td>3</td>\n",
       "      <td>Condominium</td>\n",
       "      <td>2004</td>\n",
       "      <td>823719</td>\n",
       "      <td>975,700</td>\n",
       "      <td>94107</td>\n",
       "      <td>69819817</td>\n",
       "    </tr>\n",
       "  </tbody>\n",
       "</table>\n",
       "</div>"
      ],
      "text/plain": [
       "   Unnamed: 0                             address  \\\n",
       "0           2  Address: 1160 Mission Street #2007   \n",
       "1           5       Address: 260 King Street #475   \n",
       "\n",
       "                                                info  \\\n",
       "0   San FranciscoSales price: 1300000Sales date: ...   \n",
       "1   San FranciscoSales price: 750000Sales date: 0...   \n",
       "\n",
       "                   z_address  bathrooms  bedrooms  finishedsqft lastsolddate  \\\n",
       "0  1160 Mission St UNIT 2007        2.0         2          1043   02/17/2016   \n",
       "1       260 King St UNIT 475        1.0         1           903   02/17/2016   \n",
       "\n",
       "   lastsoldprice   latitude   longitude     neighborhood  totalrooms  \\\n",
       "0        1300000  37.778705 -122.412635  South of Market           4   \n",
       "1         750000  37.777641 -122.393417  South of Market           3   \n",
       "\n",
       "       usecode  yearbuilt  zestimate zindexvalue  zipcode      zpid  \n",
       "0  Condominium       2007    1167508     975,700    94103  83152781  \n",
       "1  Condominium       2004     823719     975,700    94107  69819817  "
      ]
     },
     "execution_count": 80,
     "metadata": {},
     "output_type": "execute_result"
    }
   ],
   "source": [
    "home.head(2)"
   ]
  },
  {
   "cell_type": "markdown",
   "metadata": {},
   "source": [
    "When we look at the zindex value we see it has coma seprated values(string) which can create problem while executing our machine learning model as most of ML learning models predict numeric values we may get unrealistic results when a string is encountered while calculating the value of target variable  \n",
    "So we will convert zindexvalue values to numeric\n"
   ]
  },
  {
   "cell_type": "code",
   "execution_count": 81,
   "metadata": {},
   "outputs": [],
   "source": [
    "home.zindexvalue = home.zindexvalue.str.replace(',','')"
   ]
  },
  {
   "cell_type": "code",
   "execution_count": 82,
   "metadata": {},
   "outputs": [],
   "source": [
    "home.zindexvalue=pd.to_numeric(home.zindexvalue)"
   ]
  },
  {
   "cell_type": "code",
   "execution_count": 83,
   "metadata": {},
   "outputs": [
    {
     "data": {
      "text/plain": [
       "0    975700\n",
       "1    975700\n",
       "Name: zindexvalue, dtype: int64"
      ]
     },
     "execution_count": 83,
     "metadata": {},
     "output_type": "execute_result"
    }
   ],
   "source": [
    "#datatype is converted into numeric variable\n",
    "home.zindexvalue.head(2)"
   ]
  },
  {
   "cell_type": "markdown",
   "metadata": {},
   "source": [
    "1. There are total of 18 independent variables and one dependent variable\n",
    "2. We will select some important features to predict our target variable\n",
    "3. Let me assume few things while removing the parameters, these are my Assumptions while droping  the features,\n",
    "        a. let me assume that Unnamed,address,info,z_address these features will not help us to predict the value of the home so we will drop them and create a new data frame\n",
    "4. For now I will keep 10+1 features for predicting our target variable(Concatenating zindexvalue)\n"
   ]
  },
  {
   "cell_type": "code",
   "execution_count": 84,
   "metadata": {},
   "outputs": [
    {
     "data": {
      "text/html": [
       "<div>\n",
       "<style scoped>\n",
       "    .dataframe tbody tr th:only-of-type {\n",
       "        vertical-align: middle;\n",
       "    }\n",
       "\n",
       "    .dataframe tbody tr th {\n",
       "        vertical-align: top;\n",
       "    }\n",
       "\n",
       "    .dataframe thead th {\n",
       "        text-align: right;\n",
       "    }\n",
       "</style>\n",
       "<table border=\"1\" class=\"dataframe\">\n",
       "  <thead>\n",
       "    <tr style=\"text-align: right;\">\n",
       "      <th></th>\n",
       "      <th>bathrooms</th>\n",
       "      <th>bedrooms</th>\n",
       "      <th>finishedsqft</th>\n",
       "      <th>lastsolddate</th>\n",
       "      <th>lastsoldprice</th>\n",
       "      <th>latitude</th>\n",
       "      <th>longitude</th>\n",
       "      <th>neighborhood</th>\n",
       "      <th>totalrooms</th>\n",
       "      <th>usecode</th>\n",
       "      <th>yearbuilt</th>\n",
       "    </tr>\n",
       "  </thead>\n",
       "  <tbody>\n",
       "    <tr>\n",
       "      <th>0</th>\n",
       "      <td>2.0</td>\n",
       "      <td>2</td>\n",
       "      <td>1043</td>\n",
       "      <td>02/17/2016</td>\n",
       "      <td>1300000</td>\n",
       "      <td>37.778705</td>\n",
       "      <td>-122.412635</td>\n",
       "      <td>South of Market</td>\n",
       "      <td>4</td>\n",
       "      <td>Condominium</td>\n",
       "      <td>2007</td>\n",
       "    </tr>\n",
       "    <tr>\n",
       "      <th>1</th>\n",
       "      <td>1.0</td>\n",
       "      <td>1</td>\n",
       "      <td>903</td>\n",
       "      <td>02/17/2016</td>\n",
       "      <td>750000</td>\n",
       "      <td>37.777641</td>\n",
       "      <td>-122.393417</td>\n",
       "      <td>South of Market</td>\n",
       "      <td>3</td>\n",
       "      <td>Condominium</td>\n",
       "      <td>2004</td>\n",
       "    </tr>\n",
       "    <tr>\n",
       "      <th>2</th>\n",
       "      <td>4.0</td>\n",
       "      <td>3</td>\n",
       "      <td>1425</td>\n",
       "      <td>02/17/2016</td>\n",
       "      <td>1495000</td>\n",
       "      <td>37.759198</td>\n",
       "      <td>-122.396516</td>\n",
       "      <td>Potrero Hill</td>\n",
       "      <td>6</td>\n",
       "      <td>Condominium</td>\n",
       "      <td>2003</td>\n",
       "    </tr>\n",
       "    <tr>\n",
       "      <th>3</th>\n",
       "      <td>3.0</td>\n",
       "      <td>3</td>\n",
       "      <td>2231</td>\n",
       "      <td>02/17/2016</td>\n",
       "      <td>2700000</td>\n",
       "      <td>37.761886</td>\n",
       "      <td>-122.396769</td>\n",
       "      <td>Potrero Hill</td>\n",
       "      <td>10</td>\n",
       "      <td>SingleFamily</td>\n",
       "      <td>1927</td>\n",
       "    </tr>\n",
       "    <tr>\n",
       "      <th>4</th>\n",
       "      <td>3.0</td>\n",
       "      <td>3</td>\n",
       "      <td>1300</td>\n",
       "      <td>02/17/2016</td>\n",
       "      <td>1530000</td>\n",
       "      <td>37.740795</td>\n",
       "      <td>-122.413453</td>\n",
       "      <td>Bernal Heights</td>\n",
       "      <td>4</td>\n",
       "      <td>SingleFamily</td>\n",
       "      <td>1900</td>\n",
       "    </tr>\n",
       "  </tbody>\n",
       "</table>\n",
       "</div>"
      ],
      "text/plain": [
       "   bathrooms  bedrooms  finishedsqft lastsolddate  lastsoldprice   latitude  \\\n",
       "0        2.0         2          1043   02/17/2016        1300000  37.778705   \n",
       "1        1.0         1           903   02/17/2016         750000  37.777641   \n",
       "2        4.0         3          1425   02/17/2016        1495000  37.759198   \n",
       "3        3.0         3          2231   02/17/2016        2700000  37.761886   \n",
       "4        3.0         3          1300   02/17/2016        1530000  37.740795   \n",
       "\n",
       "    longitude     neighborhood  totalrooms       usecode  yearbuilt  \n",
       "0 -122.412635  South of Market           4   Condominium       2007  \n",
       "1 -122.393417  South of Market           3   Condominium       2004  \n",
       "2 -122.396516     Potrero Hill           6   Condominium       2003  \n",
       "3 -122.396769     Potrero Hill          10  SingleFamily       1927  \n",
       "4 -122.413453   Bernal Heights           4  SingleFamily       1900  "
      ]
     },
     "execution_count": 84,
     "metadata": {},
     "output_type": "execute_result"
    }
   ],
   "source": [
    "df=home.iloc[:,4:15]\n",
    "df.head(5)"
   ]
  },
  {
   "cell_type": "code",
   "execution_count": 85,
   "metadata": {},
   "outputs": [
    {
     "data": {
      "text/html": [
       "<div>\n",
       "<style scoped>\n",
       "    .dataframe tbody tr th:only-of-type {\n",
       "        vertical-align: middle;\n",
       "    }\n",
       "\n",
       "    .dataframe tbody tr th {\n",
       "        vertical-align: top;\n",
       "    }\n",
       "\n",
       "    .dataframe thead th {\n",
       "        text-align: right;\n",
       "    }\n",
       "</style>\n",
       "<table border=\"1\" class=\"dataframe\">\n",
       "  <thead>\n",
       "    <tr style=\"text-align: right;\">\n",
       "      <th></th>\n",
       "      <th>bathrooms</th>\n",
       "      <th>bedrooms</th>\n",
       "      <th>finishedsqft</th>\n",
       "      <th>lastsolddate</th>\n",
       "      <th>lastsoldprice</th>\n",
       "      <th>latitude</th>\n",
       "      <th>longitude</th>\n",
       "      <th>neighborhood</th>\n",
       "      <th>totalrooms</th>\n",
       "      <th>usecode</th>\n",
       "      <th>yearbuilt</th>\n",
       "      <th>zindexvalue</th>\n",
       "    </tr>\n",
       "  </thead>\n",
       "  <tbody>\n",
       "    <tr>\n",
       "      <th>0</th>\n",
       "      <td>2.0</td>\n",
       "      <td>2</td>\n",
       "      <td>1043</td>\n",
       "      <td>02/17/2016</td>\n",
       "      <td>1300000</td>\n",
       "      <td>37.778705</td>\n",
       "      <td>-122.412635</td>\n",
       "      <td>South of Market</td>\n",
       "      <td>4</td>\n",
       "      <td>Condominium</td>\n",
       "      <td>2007</td>\n",
       "      <td>975700</td>\n",
       "    </tr>\n",
       "    <tr>\n",
       "      <th>1</th>\n",
       "      <td>1.0</td>\n",
       "      <td>1</td>\n",
       "      <td>903</td>\n",
       "      <td>02/17/2016</td>\n",
       "      <td>750000</td>\n",
       "      <td>37.777641</td>\n",
       "      <td>-122.393417</td>\n",
       "      <td>South of Market</td>\n",
       "      <td>3</td>\n",
       "      <td>Condominium</td>\n",
       "      <td>2004</td>\n",
       "      <td>975700</td>\n",
       "    </tr>\n",
       "  </tbody>\n",
       "</table>\n",
       "</div>"
      ],
      "text/plain": [
       "   bathrooms  bedrooms  finishedsqft lastsolddate  lastsoldprice   latitude  \\\n",
       "0        2.0         2          1043   02/17/2016        1300000  37.778705   \n",
       "1        1.0         1           903   02/17/2016         750000  37.777641   \n",
       "\n",
       "    longitude     neighborhood  totalrooms      usecode  yearbuilt  \\\n",
       "0 -122.412635  South of Market           4  Condominium       2007   \n",
       "1 -122.393417  South of Market           3  Condominium       2004   \n",
       "\n",
       "   zindexvalue  \n",
       "0       975700  \n",
       "1       975700  "
      ]
     },
     "execution_count": 85,
     "metadata": {},
     "output_type": "execute_result"
    }
   ],
   "source": [
    "df=pd.concat([df,home['zindexvalue']],axis=1)\n",
    "df.head(2)"
   ]
  },
  {
   "cell_type": "code",
   "execution_count": 86,
   "metadata": {},
   "outputs": [],
   "source": [
    "#Analyse the numeric data individually by ploting the graph\n",
    "#Import the necessary libraries for ploting the graph\n",
    "import matplotlib.pyplot as plt\n",
    "%matplotlib inline"
   ]
  },
  {
   "cell_type": "code",
   "execution_count": 87,
   "metadata": {
    "scrolled": true
   },
   "outputs": [
    {
     "data": {
      "image/png": "[encoded data removed]",
      "text/plain": [
       "<Figure size 1440x720 with 9 Axes>"
      ]
     },
     "metadata": {
      "needs_background": "light"
     },
     "output_type": "display_data"
    }
   ],
   "source": [
    "df.hist(bins=50,figsize=(20,10))\n",
    "plt.show()"
   ]
  },
  {
   "cell_type": "code",
   "execution_count": 88,
   "metadata": {},
   "outputs": [
    {
     "data": {
      "text/html": [
       "<div>\n",
       "<style scoped>\n",
       "    .dataframe tbody tr th:only-of-type {\n",
       "        vertical-align: middle;\n",
       "    }\n",
       "\n",
       "    .dataframe tbody tr th {\n",
       "        vertical-align: top;\n",
       "    }\n",
       "\n",
       "    .dataframe thead th {\n",
       "        text-align: right;\n",
       "    }\n",
       "</style>\n",
       "<table border=\"1\" class=\"dataframe\">\n",
       "  <thead>\n",
       "    <tr style=\"text-align: right;\">\n",
       "      <th></th>\n",
       "      <th>bathrooms</th>\n",
       "      <th>bedrooms</th>\n",
       "      <th>finishedsqft</th>\n",
       "      <th>lastsoldprice</th>\n",
       "      <th>latitude</th>\n",
       "      <th>longitude</th>\n",
       "      <th>totalrooms</th>\n",
       "      <th>yearbuilt</th>\n",
       "      <th>zindexvalue</th>\n",
       "    </tr>\n",
       "  </thead>\n",
       "  <tbody>\n",
       "    <tr>\n",
       "      <th>bathrooms</th>\n",
       "      <td>1.000000</td>\n",
       "      <td>0.714270</td>\n",
       "      <td>0.719096</td>\n",
       "      <td>0.536880</td>\n",
       "      <td>0.041632</td>\n",
       "      <td>-0.120276</td>\n",
       "      <td>0.135171</td>\n",
       "      <td>-0.094791</td>\n",
       "      <td>0.249193</td>\n",
       "    </tr>\n",
       "    <tr>\n",
       "      <th>bedrooms</th>\n",
       "      <td>0.714270</td>\n",
       "      <td>1.000000</td>\n",
       "      <td>0.697461</td>\n",
       "      <td>0.395478</td>\n",
       "      <td>-0.157859</td>\n",
       "      <td>-0.258338</td>\n",
       "      <td>0.155320</td>\n",
       "      <td>-0.312583</td>\n",
       "      <td>0.164981</td>\n",
       "    </tr>\n",
       "    <tr>\n",
       "      <th>finishedsqft</th>\n",
       "      <td>0.719096</td>\n",
       "      <td>0.697461</td>\n",
       "      <td>1.000000</td>\n",
       "      <td>0.647208</td>\n",
       "      <td>0.061655</td>\n",
       "      <td>-0.208110</td>\n",
       "      <td>0.156913</td>\n",
       "      <td>-0.283712</td>\n",
       "      <td>0.338131</td>\n",
       "    </tr>\n",
       "    <tr>\n",
       "      <th>lastsoldprice</th>\n",
       "      <td>0.536880</td>\n",
       "      <td>0.395478</td>\n",
       "      <td>0.647208</td>\n",
       "      <td>1.000000</td>\n",
       "      <td>0.283107</td>\n",
       "      <td>-0.052595</td>\n",
       "      <td>0.093527</td>\n",
       "      <td>-0.189055</td>\n",
       "      <td>0.460429</td>\n",
       "    </tr>\n",
       "    <tr>\n",
       "      <th>latitude</th>\n",
       "      <td>0.041632</td>\n",
       "      <td>-0.157859</td>\n",
       "      <td>0.061655</td>\n",
       "      <td>0.283107</td>\n",
       "      <td>1.000000</td>\n",
       "      <td>0.117271</td>\n",
       "      <td>-0.007126</td>\n",
       "      <td>0.140987</td>\n",
       "      <td>0.393080</td>\n",
       "    </tr>\n",
       "    <tr>\n",
       "      <th>longitude</th>\n",
       "      <td>-0.120276</td>\n",
       "      <td>-0.258338</td>\n",
       "      <td>-0.208110</td>\n",
       "      <td>-0.052595</td>\n",
       "      <td>0.117271</td>\n",
       "      <td>1.000000</td>\n",
       "      <td>-0.054203</td>\n",
       "      <td>0.289189</td>\n",
       "      <td>-0.188348</td>\n",
       "    </tr>\n",
       "    <tr>\n",
       "      <th>totalrooms</th>\n",
       "      <td>0.135171</td>\n",
       "      <td>0.155320</td>\n",
       "      <td>0.156913</td>\n",
       "      <td>0.093527</td>\n",
       "      <td>-0.007126</td>\n",
       "      <td>-0.054203</td>\n",
       "      <td>1.000000</td>\n",
       "      <td>-0.061874</td>\n",
       "      <td>0.043554</td>\n",
       "    </tr>\n",
       "    <tr>\n",
       "      <th>yearbuilt</th>\n",
       "      <td>-0.094791</td>\n",
       "      <td>-0.312583</td>\n",
       "      <td>-0.283712</td>\n",
       "      <td>-0.189055</td>\n",
       "      <td>0.140987</td>\n",
       "      <td>0.289189</td>\n",
       "      <td>-0.061874</td>\n",
       "      <td>1.000000</td>\n",
       "      <td>-0.219629</td>\n",
       "    </tr>\n",
       "    <tr>\n",
       "      <th>zindexvalue</th>\n",
       "      <td>0.249193</td>\n",
       "      <td>0.164981</td>\n",
       "      <td>0.338131</td>\n",
       "      <td>0.460429</td>\n",
       "      <td>0.393080</td>\n",
       "      <td>-0.188348</td>\n",
       "      <td>0.043554</td>\n",
       "      <td>-0.219629</td>\n",
       "      <td>1.000000</td>\n",
       "    </tr>\n",
       "  </tbody>\n",
       "</table>\n",
       "</div>"
      ],
      "text/plain": [
       "               bathrooms  bedrooms  finishedsqft  lastsoldprice  latitude  \\\n",
       "bathrooms       1.000000  0.714270      0.719096       0.536880  0.041632   \n",
       "bedrooms        0.714270  1.000000      0.697461       0.395478 -0.157859   \n",
       "finishedsqft    0.719096  0.697461      1.000000       0.647208  0.061655   \n",
       "lastsoldprice   0.536880  0.395478      0.647208       1.000000  0.283107   \n",
       "latitude        0.041632 -0.157859      0.061655       0.283107  1.000000   \n",
       "longitude      -0.120276 -0.258338     -0.208110      -0.052595  0.117271   \n",
       "totalrooms      0.135171  0.155320      0.156913       0.093527 -0.007126   \n",
       "yearbuilt      -0.094791 -0.312583     -0.283712      -0.189055  0.140987   \n",
       "zindexvalue     0.249193  0.164981      0.338131       0.460429  0.393080   \n",
       "\n",
       "               longitude  totalrooms  yearbuilt  zindexvalue  \n",
       "bathrooms      -0.120276    0.135171  -0.094791     0.249193  \n",
       "bedrooms       -0.258338    0.155320  -0.312583     0.164981  \n",
       "finishedsqft   -0.208110    0.156913  -0.283712     0.338131  \n",
       "lastsoldprice  -0.052595    0.093527  -0.189055     0.460429  \n",
       "latitude        0.117271   -0.007126   0.140987     0.393080  \n",
       "longitude       1.000000   -0.054203   0.289189    -0.188348  \n",
       "totalrooms     -0.054203    1.000000  -0.061874     0.043554  \n",
       "yearbuilt       0.289189   -0.061874   1.000000    -0.219629  \n",
       "zindexvalue    -0.188348    0.043554  -0.219629     1.000000  "
      ]
     },
     "execution_count": 88,
     "metadata": {},
     "output_type": "execute_result"
    }
   ],
   "source": [
    "#Lets use correlation matrix to find the correlation between the independent and dependent variables\n",
    "\n",
    "correlation_matrix = df.corr()\n",
    "correlation_matrix"
   ]
  },
  {
   "cell_type": "code",
   "execution_count": 89,
   "metadata": {},
   "outputs": [
    {
     "data": {
      "text/plain": [
       "lastsoldprice    1.000000\n",
       "finishedsqft     0.647208\n",
       "bathrooms        0.536880\n",
       "zindexvalue      0.460429\n",
       "bedrooms         0.395478\n",
       "latitude         0.283107\n",
       "totalrooms       0.093527\n",
       "longitude       -0.052595\n",
       "yearbuilt       -0.189055\n",
       "Name: lastsoldprice, dtype: float64"
      ]
     },
     "execution_count": 89,
     "metadata": {},
     "output_type": "execute_result"
    }
   ],
   "source": [
    "#Finding a correlation between dependent and independent variables\n",
    "correlation_matrix['lastsoldprice'].sort_values(ascending=False)"
   ]
  },
  {
   "cell_type": "markdown",
   "metadata": {},
   "source": [
    "1. From the above correlation coefficient values we can see that there is a strong correlation between the independent variable finishedsqft,bathrooms and dependent variable lastsoldprice\n",
    "2. Let me assume that correlation coefficient value greater than 0.5 holds a strong correlation with dependent variable.\n",
    "Now let me visualise the same using scattered plot.\n",
    "I am creating a scaterred matrix plot using pandas library"
   ]
  },
  {
   "cell_type": "code",
   "execution_count": 90,
   "metadata": {},
   "outputs": [
    {
     "name": "stderr",
     "output_type": "stream",
     "text": [
      "C:\\ProgramData\\Anaconda3\\lib\\site-packages\\ipykernel_launcher.py:3: FutureWarning: pandas.scatter_matrix is deprecated, use pandas.plotting.scatter_matrix instead\n",
      "  This is separate from the ipykernel package so we can avoid doing imports until\n"
     ]
    },
    {
     "data": {
      "text/plain": [
       "array([[<matplotlib.axes._subplots.AxesSubplot object at 0x00000148D0222B38>,\n",
       "        <matplotlib.axes._subplots.AxesSubplot object at 0x00000148CFFBF438>,\n",
       "        <matplotlib.axes._subplots.AxesSubplot object at 0x00000148D0242BE0>,\n",
       "        <matplotlib.axes._subplots.AxesSubplot object at 0x00000148D02602B0>,\n",
       "        <matplotlib.axes._subplots.AxesSubplot object at 0x00000148D0282940>],\n",
       "       [<matplotlib.axes._subplots.AxesSubplot object at 0x00000148D0282978>,\n",
       "        <matplotlib.axes._subplots.AxesSubplot object at 0x00000148D02D16A0>,\n",
       "        <matplotlib.axes._subplots.AxesSubplot object at 0x00000148D22C9D30>,\n",
       "        <matplotlib.axes._subplots.AxesSubplot object at 0x00000148D22FC400>,\n",
       "        <matplotlib.axes._subplots.AxesSubplot object at 0x00000148D2322A90>],\n",
       "       [<matplotlib.axes._subplots.AxesSubplot object at 0x00000148D2353160>,\n",
       "        <matplotlib.axes._subplots.AxesSubplot object at 0x00000148D23BB7F0>,\n",
       "        <matplotlib.axes._subplots.AxesSubplot object at 0x00000148D23E6E80>,\n",
       "        <matplotlib.axes._subplots.AxesSubplot object at 0x00000148D24D6518>,\n",
       "        <matplotlib.axes._subplots.AxesSubplot object at 0x00000148D24FEBA8>],\n",
       "       [<matplotlib.axes._subplots.AxesSubplot object at 0x00000148D2534278>,\n",
       "        <matplotlib.axes._subplots.AxesSubplot object at 0x00000148D2559908>,\n",
       "        <matplotlib.axes._subplots.AxesSubplot object at 0x00000148D2582F98>,\n",
       "        <matplotlib.axes._subplots.AxesSubplot object at 0x00000148D25B3668>,\n",
       "        <matplotlib.axes._subplots.AxesSubplot object at 0x00000148D25DCCF8>],\n",
       "       [<matplotlib.axes._subplots.AxesSubplot object at 0x00000148D260D3C8>,\n",
       "        <matplotlib.axes._subplots.AxesSubplot object at 0x00000148D2635A58>,\n",
       "        <matplotlib.axes._subplots.AxesSubplot object at 0x00000148D2669128>,\n",
       "        <matplotlib.axes._subplots.AxesSubplot object at 0x00000148D26907B8>,\n",
       "        <matplotlib.axes._subplots.AxesSubplot object at 0x00000148D26B7E10>]],\n",
       "      dtype=object)"
      ]
     },
     "execution_count": 90,
     "metadata": {},
     "output_type": "execute_result"
    },
    {
     "data": {
      "image/png": "[encoded data removed]",
      "text/plain": [
       "<Figure size 1440x1080 with 25 Axes>"
      ]
     },
     "metadata": {
      "needs_background": "light"
     },
     "output_type": "display_data"
    }
   ],
   "source": [
    "#import pandas library t plot a scattered matrix\n",
    "\n",
    "pd.scatter_matrix(df[['lastsoldprice','finishedsqft','bathrooms','zindexvalue','bedrooms']],figsize=(20,15))"
   ]
  },
  {
   "cell_type": "markdown",
   "metadata": {},
   "source": [
    "Observations of scaterred plot\n",
    "1. There is a  strong linear relation between lastsoldprice and finishedsqft,ie people tend to pay more for homes that are ready to move in.\n",
    "2. For other features there is no such linear relation observed with target variable\n",
    "3. Let me take a closer look at the graph between lastsoldprice and finishedsqft"
   ]
  },
  {
   "cell_type": "code",
   "execution_count": 91,
   "metadata": {},
   "outputs": [
    {
     "data": {
      "image/png": "[encoded data removed]",
      "text/plain": [
       "<Figure size 432x288 with 1 Axes>"
      ]
     },
     "metadata": {
      "needs_background": "light"
     },
     "output_type": "display_data"
    }
   ],
   "source": [
    "df.plot(kind='scatter',x='finishedsqft',y='lastsoldprice')\n",
    "plt.show()"
   ]
  },
  {
   "cell_type": "code",
   "execution_count": 92,
   "metadata": {
    "scrolled": true
   },
   "outputs": [
    {
     "data": {
      "image/png": "[encoded data removed]",
      "text/plain": [
       "<Figure size 1440x360 with 4 Axes>"
      ]
     },
     "metadata": {
      "needs_background": "light"
     },
     "output_type": "display_data"
    }
   ],
   "source": [
    "df[['finishedsqft','bedrooms','bathrooms']].hist(bins=50,figsize=(20,5))\n",
    "plt.show()"
   ]
  },
  {
   "cell_type": "markdown",
   "metadata": {},
   "source": [
    "Observations from the plots above\n",
    "1. People tend to buy homes which are ready to movein, but there is a specific sqft they tend to buy(Not very large sqft's)\n",
    "2. Homes with 2 bathrooms and 2-2.5  bedrooms and finished sqft between 1000-3000 sqft are more likey to be sold.\n",
    "3. There are very less people who tend to buy largesqft, more bedrooms and bathroom homes.\n",
    "4. So the home owner(builder) can decide on the price to quote based on the above parameters.\n",
    "5. Above prediction can hold good to some extent but people tend to buy homes not only on above few features but they look for locality,facilities around their home like schools, hospitals, transit options etc. So the neighbourhood plays a very important feature to quote a price so i will introduce one categorical feature ie neighborhood\n",
    "\n"
   ]
  },
  {
   "cell_type": "code",
   "execution_count": 93,
   "metadata": {},
   "outputs": [
    {
     "data": {
      "text/plain": [
       "Mission            540\n",
       "Bernal Heights     525\n",
       "South of Market    524\n",
       "South Beach        461\n",
       "Pacific Heights    439\n",
       "Name: neighborhood, dtype: int64"
      ]
     },
     "execution_count": 93,
     "metadata": {},
     "output_type": "execute_result"
    }
   ],
   "source": [
    "#Count of  Each Neighborhood \n",
    "df.neighborhood.value_counts().head()"
   ]
  },
  {
   "cell_type": "code",
   "execution_count": 94,
   "metadata": {},
   "outputs": [
    {
     "data": {
      "image/png": "[encoded data removed]",
      "text/plain": [
       "<Figure size 432x288 with 1 Axes>"
      ]
     },
     "metadata": {
      "needs_background": "light"
     },
     "output_type": "display_data"
    }
   ],
   "source": [
    "df.plot(kind='scatter',x='yearbuilt',y='lastsoldprice')\n",
    "plt.show()\n",
    "#Here there is no proper correlation between lastsoldprice and yearbuilt we can drop this column"
   ]
  },
  {
   "cell_type": "code",
   "execution_count": 95,
   "metadata": {
    "scrolled": true
   },
   "outputs": [
    {
     "data": {
      "text/html": [
       "<div>\n",
       "<style scoped>\n",
       "    .dataframe tbody tr th:only-of-type {\n",
       "        vertical-align: middle;\n",
       "    }\n",
       "\n",
       "    .dataframe tbody tr th {\n",
       "        vertical-align: top;\n",
       "    }\n",
       "\n",
       "    .dataframe thead th {\n",
       "        text-align: right;\n",
       "    }\n",
       "</style>\n",
       "<table border=\"1\" class=\"dataframe\">\n",
       "  <thead>\n",
       "    <tr style=\"text-align: right;\">\n",
       "      <th></th>\n",
       "      <th></th>\n",
       "      <th>bathrooms</th>\n",
       "      <th>bedrooms</th>\n",
       "      <th>finishedsqft</th>\n",
       "      <th>lastsolddate</th>\n",
       "      <th>latitude</th>\n",
       "      <th>longitude</th>\n",
       "      <th>totalrooms</th>\n",
       "      <th>usecode</th>\n",
       "      <th>yearbuilt</th>\n",
       "      <th>zindexvalue</th>\n",
       "    </tr>\n",
       "    <tr>\n",
       "      <th>neighborhood</th>\n",
       "      <th>lastsoldprice</th>\n",
       "      <th></th>\n",
       "      <th></th>\n",
       "      <th></th>\n",
       "      <th></th>\n",
       "      <th></th>\n",
       "      <th></th>\n",
       "      <th></th>\n",
       "      <th></th>\n",
       "      <th></th>\n",
       "      <th></th>\n",
       "    </tr>\n",
       "  </thead>\n",
       "  <tbody>\n",
       "    <tr>\n",
       "      <th rowspan=\"3\" valign=\"top\">Bayview</th>\n",
       "      <th>3000</th>\n",
       "      <td>1.0</td>\n",
       "      <td>2</td>\n",
       "      <td>1000</td>\n",
       "      <td>11/16/2015</td>\n",
       "      <td>37.731344</td>\n",
       "      <td>-122.386797</td>\n",
       "      <td>5</td>\n",
       "      <td>SingleFamily</td>\n",
       "      <td>1900</td>\n",
       "      <td>731900</td>\n",
       "    </tr>\n",
       "    <tr>\n",
       "      <th>140000</th>\n",
       "      <td>1.0</td>\n",
       "      <td>2</td>\n",
       "      <td>750</td>\n",
       "      <td>04-01-14</td>\n",
       "      <td>37.717567</td>\n",
       "      <td>-122.386436</td>\n",
       "      <td>5</td>\n",
       "      <td>Condominium</td>\n",
       "      <td>2006</td>\n",
       "      <td>719000</td>\n",
       "    </tr>\n",
       "    <tr>\n",
       "      <th>152500</th>\n",
       "      <td>1.0</td>\n",
       "      <td>1</td>\n",
       "      <td>580</td>\n",
       "      <td>10/31/2014</td>\n",
       "      <td>37.734745</td>\n",
       "      <td>-122.391082</td>\n",
       "      <td>3</td>\n",
       "      <td>Condominium</td>\n",
       "      <td>2009</td>\n",
       "      <td>719000</td>\n",
       "    </tr>\n",
       "  </tbody>\n",
       "</table>\n",
       "</div>"
      ],
      "text/plain": [
       "                            bathrooms  bedrooms  finishedsqft lastsolddate  \\\n",
       "neighborhood lastsoldprice                                                   \n",
       "Bayview      3000                 1.0         2          1000   11/16/2015   \n",
       "             140000               1.0         2           750     04-01-14   \n",
       "             152500               1.0         1           580   10/31/2014   \n",
       "\n",
       "                             latitude   longitude  totalrooms       usecode  \\\n",
       "neighborhood lastsoldprice                                                    \n",
       "Bayview      3000           37.731344 -122.386797           5  SingleFamily   \n",
       "             140000         37.717567 -122.386436           5   Condominium   \n",
       "             152500         37.734745 -122.391082           3   Condominium   \n",
       "\n",
       "                            yearbuilt  zindexvalue  \n",
       "neighborhood lastsoldprice                          \n",
       "Bayview      3000                1900       731900  \n",
       "             140000              2006       719000  \n",
       "             152500              2009       719000  "
      ]
     },
     "execution_count": 95,
     "metadata": {},
     "output_type": "execute_result"
    }
   ],
   "source": [
    "df.groupby(['neighborhood','lastsoldprice']).first().head(3)"
   ]
  },
  {
   "cell_type": "code",
   "execution_count": 96,
   "metadata": {},
   "outputs": [
    {
     "data": {
      "image/png": "[encoded data removed]",
      "text/plain": [
       "<Figure size 432x288 with 1 Axes>"
      ]
     },
     "metadata": {
      "needs_background": "light"
     },
     "output_type": "display_data"
    }
   ],
   "source": [
    "#As we can see from the data and graph, lastsold price is almost linearly changing with finished sqft for a particular neighborhood\n",
    "df.plot(kind='scatter',x='finishedsqft',y='lastsoldprice')\n",
    "plt.show()"
   ]
  },
  {
   "cell_type": "code",
   "execution_count": 97,
   "metadata": {},
   "outputs": [
    {
     "data": {
      "text/html": [
       "<div>\n",
       "<style scoped>\n",
       "    .dataframe tbody tr th:only-of-type {\n",
       "        vertical-align: middle;\n",
       "    }\n",
       "\n",
       "    .dataframe tbody tr th {\n",
       "        vertical-align: top;\n",
       "    }\n",
       "\n",
       "    .dataframe thead th {\n",
       "        text-align: right;\n",
       "    }\n",
       "</style>\n",
       "<table border=\"1\" class=\"dataframe\">\n",
       "  <thead>\n",
       "    <tr style=\"text-align: right;\">\n",
       "      <th></th>\n",
       "      <th>bathrooms</th>\n",
       "      <th>bedrooms</th>\n",
       "      <th>finishedsqft</th>\n",
       "      <th>lastsolddate</th>\n",
       "      <th>lastsoldprice</th>\n",
       "      <th>latitude</th>\n",
       "      <th>longitude</th>\n",
       "      <th>neighborhood</th>\n",
       "      <th>totalrooms</th>\n",
       "      <th>usecode</th>\n",
       "      <th>yearbuilt</th>\n",
       "      <th>zindexvalue</th>\n",
       "      <th>pricepersqft</th>\n",
       "    </tr>\n",
       "  </thead>\n",
       "  <tbody>\n",
       "    <tr>\n",
       "      <th>0</th>\n",
       "      <td>2.0</td>\n",
       "      <td>2</td>\n",
       "      <td>1043</td>\n",
       "      <td>02/17/2016</td>\n",
       "      <td>1300000</td>\n",
       "      <td>37.778705</td>\n",
       "      <td>-122.412635</td>\n",
       "      <td>South of Market</td>\n",
       "      <td>4</td>\n",
       "      <td>Condominium</td>\n",
       "      <td>2007</td>\n",
       "      <td>975700</td>\n",
       "      <td>1246.404602</td>\n",
       "    </tr>\n",
       "    <tr>\n",
       "      <th>1</th>\n",
       "      <td>1.0</td>\n",
       "      <td>1</td>\n",
       "      <td>903</td>\n",
       "      <td>02/17/2016</td>\n",
       "      <td>750000</td>\n",
       "      <td>37.777641</td>\n",
       "      <td>-122.393417</td>\n",
       "      <td>South of Market</td>\n",
       "      <td>3</td>\n",
       "      <td>Condominium</td>\n",
       "      <td>2004</td>\n",
       "      <td>975700</td>\n",
       "      <td>830.564784</td>\n",
       "    </tr>\n",
       "    <tr>\n",
       "      <th>2</th>\n",
       "      <td>4.0</td>\n",
       "      <td>3</td>\n",
       "      <td>1425</td>\n",
       "      <td>02/17/2016</td>\n",
       "      <td>1495000</td>\n",
       "      <td>37.759198</td>\n",
       "      <td>-122.396516</td>\n",
       "      <td>Potrero Hill</td>\n",
       "      <td>6</td>\n",
       "      <td>Condominium</td>\n",
       "      <td>2003</td>\n",
       "      <td>1277600</td>\n",
       "      <td>1049.122807</td>\n",
       "    </tr>\n",
       "    <tr>\n",
       "      <th>3</th>\n",
       "      <td>3.0</td>\n",
       "      <td>3</td>\n",
       "      <td>2231</td>\n",
       "      <td>02/17/2016</td>\n",
       "      <td>2700000</td>\n",
       "      <td>37.761886</td>\n",
       "      <td>-122.396769</td>\n",
       "      <td>Potrero Hill</td>\n",
       "      <td>10</td>\n",
       "      <td>SingleFamily</td>\n",
       "      <td>1927</td>\n",
       "      <td>1277600</td>\n",
       "      <td>1210.219632</td>\n",
       "    </tr>\n",
       "    <tr>\n",
       "      <th>4</th>\n",
       "      <td>3.0</td>\n",
       "      <td>3</td>\n",
       "      <td>1300</td>\n",
       "      <td>02/17/2016</td>\n",
       "      <td>1530000</td>\n",
       "      <td>37.740795</td>\n",
       "      <td>-122.413453</td>\n",
       "      <td>Bernal Heights</td>\n",
       "      <td>4</td>\n",
       "      <td>SingleFamily</td>\n",
       "      <td>1900</td>\n",
       "      <td>1248000</td>\n",
       "      <td>1176.923077</td>\n",
       "    </tr>\n",
       "  </tbody>\n",
       "</table>\n",
       "</div>"
      ],
      "text/plain": [
       "   bathrooms  bedrooms  finishedsqft lastsolddate  lastsoldprice   latitude  \\\n",
       "0        2.0         2          1043   02/17/2016        1300000  37.778705   \n",
       "1        1.0         1           903   02/17/2016         750000  37.777641   \n",
       "2        4.0         3          1425   02/17/2016        1495000  37.759198   \n",
       "3        3.0         3          2231   02/17/2016        2700000  37.761886   \n",
       "4        3.0         3          1300   02/17/2016        1530000  37.740795   \n",
       "\n",
       "    longitude     neighborhood  totalrooms       usecode  yearbuilt  \\\n",
       "0 -122.412635  South of Market           4   Condominium       2007   \n",
       "1 -122.393417  South of Market           3   Condominium       2004   \n",
       "2 -122.396516     Potrero Hill           6   Condominium       2003   \n",
       "3 -122.396769     Potrero Hill          10  SingleFamily       1927   \n",
       "4 -122.413453   Bernal Heights           4  SingleFamily       1900   \n",
       "\n",
       "   zindexvalue  pricepersqft  \n",
       "0       975700   1246.404602  \n",
       "1       975700    830.564784  \n",
       "2      1277600   1049.122807  \n",
       "3      1277600   1210.219632  \n",
       "4      1248000   1176.923077  "
      ]
     },
     "execution_count": 97,
     "metadata": {},
     "output_type": "execute_result"
    }
   ],
   "source": [
    "#Let us find per squareft price for each neighborhood\n",
    "df['pricepersqft']=df.lastsoldprice/df.finishedsqft\n",
    "df.head(5)"
   ]
  },
  {
   "cell_type": "code",
   "execution_count": 98,
   "metadata": {},
   "outputs": [
    {
     "data": {
      "text/plain": [
       "neighborhood\n",
       "Bayview              417.049058\n",
       "Bernal Heights      3158.199830\n",
       "Buena Vista Park     952.912618\n",
       "Central Richmond     659.691461\n",
       "Central Sunset       610.067525\n",
       "Name: pricepersqft, dtype: float64"
      ]
     },
     "execution_count": 98,
     "metadata": {},
     "output_type": "execute_result"
    }
   ],
   "source": [
    "mean_price=df.groupby('neighborhood').mean()['pricepersqft']\n",
    "mean_price.head()"
   ]
  },
  {
   "cell_type": "code",
   "execution_count": 99,
   "metadata": {},
   "outputs": [
    {
     "data": {
      "text/plain": [
       "neighborhood\n",
       "Bayview             354\n",
       "Bernal Heights      525\n",
       "Buena Vista Park     70\n",
       "Central Richmond    227\n",
       "Central Sunset      229\n",
       "Name: pricepersqft, dtype: int64"
      ]
     },
     "execution_count": 99,
     "metadata": {},
     "output_type": "execute_result"
    }
   ],
   "source": [
    "frequency=df.groupby('neighborhood').count()['pricepersqft']\n",
    "frequency.head()"
   ]
  },
  {
   "cell_type": "code",
   "execution_count": 100,
   "metadata": {
    "scrolled": false
   },
   "outputs": [
    {
     "name": "stderr",
     "output_type": "stream",
     "text": [
      "C:\\ProgramData\\Anaconda3\\lib\\site-packages\\ipykernel_launcher.py:3: UserWarning: Pandas doesn't allow columns to be created via a new attribute name - see https://pandas.pydata.org/pandas-docs/stable/indexing.html#attribute-access\n",
      "  This is separate from the ipykernel package so we can avoid doing imports until\n"
     ]
    },
    {
     "data": {
      "text/html": [
       "<div>\n",
       "<style scoped>\n",
       "    .dataframe tbody tr th:only-of-type {\n",
       "        vertical-align: middle;\n",
       "    }\n",
       "\n",
       "    .dataframe tbody tr th {\n",
       "        vertical-align: top;\n",
       "    }\n",
       "\n",
       "    .dataframe thead th {\n",
       "        text-align: right;\n",
       "    }\n",
       "</style>\n",
       "<table border=\"1\" class=\"dataframe\">\n",
       "  <thead>\n",
       "    <tr style=\"text-align: right;\">\n",
       "      <th></th>\n",
       "      <th>frequency</th>\n",
       "      <th>mean_price</th>\n",
       "    </tr>\n",
       "    <tr>\n",
       "      <th>neighborhood</th>\n",
       "      <th></th>\n",
       "      <th></th>\n",
       "    </tr>\n",
       "  </thead>\n",
       "  <tbody>\n",
       "    <tr>\n",
       "      <th>Bayview</th>\n",
       "      <td>354</td>\n",
       "      <td>417.049058</td>\n",
       "    </tr>\n",
       "    <tr>\n",
       "      <th>Bernal Heights</th>\n",
       "      <td>525</td>\n",
       "      <td>3158.199830</td>\n",
       "    </tr>\n",
       "    <tr>\n",
       "      <th>Buena Vista Park</th>\n",
       "      <td>70</td>\n",
       "      <td>952.912618</td>\n",
       "    </tr>\n",
       "    <tr>\n",
       "      <th>Central Richmond</th>\n",
       "      <td>227</td>\n",
       "      <td>659.691461</td>\n",
       "    </tr>\n",
       "    <tr>\n",
       "      <th>Central Sunset</th>\n",
       "      <td>229</td>\n",
       "      <td>610.067525</td>\n",
       "    </tr>\n",
       "  </tbody>\n",
       "</table>\n",
       "</div>"
      ],
      "text/plain": [
       "                  frequency   mean_price\n",
       "neighborhood                            \n",
       "Bayview                 354   417.049058\n",
       "Bernal Heights          525  3158.199830\n",
       "Buena Vista Park         70   952.912618\n",
       "Central Richmond        227   659.691461\n",
       "Central Sunset          229   610.067525"
      ]
     },
     "execution_count": 100,
     "metadata": {},
     "output_type": "execute_result"
    }
   ],
   "source": [
    "group=pd.concat([frequency,mean_price],axis=1)\n",
    "group.columns=['frequency','mean_price']\n",
    "group.neighborhood=group.index \n",
    "group.head()"
   ]
  },
  {
   "cell_type": "code",
   "execution_count": 101,
   "metadata": {},
   "outputs": [
    {
     "data": {
      "text/html": [
       "<div>\n",
       "<style scoped>\n",
       "    .dataframe tbody tr th:only-of-type {\n",
       "        vertical-align: middle;\n",
       "    }\n",
       "\n",
       "    .dataframe tbody tr th {\n",
       "        vertical-align: top;\n",
       "    }\n",
       "\n",
       "    .dataframe thead th {\n",
       "        text-align: right;\n",
       "    }\n",
       "</style>\n",
       "<table border=\"1\" class=\"dataframe\">\n",
       "  <thead>\n",
       "    <tr style=\"text-align: right;\">\n",
       "      <th></th>\n",
       "      <th>frequency</th>\n",
       "      <th>mean_price</th>\n",
       "    </tr>\n",
       "  </thead>\n",
       "  <tbody>\n",
       "    <tr>\n",
       "      <th>count</th>\n",
       "      <td>71.000000</td>\n",
       "      <td>71.000000</td>\n",
       "    </tr>\n",
       "    <tr>\n",
       "      <th>mean</th>\n",
       "      <td>159.577465</td>\n",
       "      <td>1664.908308</td>\n",
       "    </tr>\n",
       "    <tr>\n",
       "      <th>std</th>\n",
       "      <td>126.572696</td>\n",
       "      <td>3619.277749</td>\n",
       "    </tr>\n",
       "    <tr>\n",
       "      <th>min</th>\n",
       "      <td>3.000000</td>\n",
       "      <td>374.201197</td>\n",
       "    </tr>\n",
       "    <tr>\n",
       "      <th>25%</th>\n",
       "      <td>67.500000</td>\n",
       "      <td>613.337664</td>\n",
       "    </tr>\n",
       "    <tr>\n",
       "      <th>50%</th>\n",
       "      <td>123.000000</td>\n",
       "      <td>756.246284</td>\n",
       "    </tr>\n",
       "    <tr>\n",
       "      <th>75%</th>\n",
       "      <td>210.500000</td>\n",
       "      <td>985.156646</td>\n",
       "    </tr>\n",
       "    <tr>\n",
       "      <th>max</th>\n",
       "      <td>540.000000</td>\n",
       "      <td>26914.471572</td>\n",
       "    </tr>\n",
       "  </tbody>\n",
       "</table>\n",
       "</div>"
      ],
      "text/plain": [
       "        frequency    mean_price\n",
       "count   71.000000     71.000000\n",
       "mean   159.577465   1664.908308\n",
       "std    126.572696   3619.277749\n",
       "min      3.000000    374.201197\n",
       "25%     67.500000    613.337664\n",
       "50%    123.000000    756.246284\n",
       "75%    210.500000    985.156646\n",
       "max    540.000000  26914.471572"
      ]
     },
     "execution_count": 101,
     "metadata": {},
     "output_type": "execute_result"
    }
   ],
   "source": [
    "group.describe()"
   ]
  },
  {
   "cell_type": "code",
   "execution_count": 102,
   "metadata": {},
   "outputs": [
    {
     "data": {
      "image/png": "[encoded data removed]",
      "text/plain": [
       "<Figure size 432x288 with 1 Axes>"
      ]
     },
     "metadata": {
      "needs_background": "light"
     },
     "output_type": "display_data"
    }
   ],
   "source": [
    "group.plot(kind='scatter',y='frequency',x='mean_price')\n",
    "plt.show()"
   ]
  },
  {
   "cell_type": "markdown",
   "metadata": {},
   "source": [
    "#Let me set some standards to analyse the plots drawn\n",
    "1. Since the 50% of frequency of homes bought is 123 and 50% of mean_price is 756.\n",
    "2. Let me assume anything under these values to be low and above these values to be high "
   ]
  },
  {
   "cell_type": "code",
   "execution_count": 103,
   "metadata": {},
   "outputs": [],
   "source": [
    "cat = df.groupby('neighborhood')\n",
    "cat.first()\n",
    "cat1=cat.get_group('Bayview')"
   ]
  },
  {
   "cell_type": "code",
   "execution_count": 104,
   "metadata": {},
   "outputs": [
    {
     "name": "stderr",
     "output_type": "stream",
     "text": [
      "C:\\ProgramData\\Anaconda3\\lib\\site-packages\\scipy\\stats\\stats.py:1713: FutureWarning: Using a non-tuple sequence for multidimensional indexing is deprecated; use `arr[tuple(seq)]` instead of `arr[seq]`. In the future this will be interpreted as an array index, `arr[np.array(seq)]`, which will result either in an error or a different result.\n",
      "  return np.add.reduce(sorted[indexer] * weights, axis=axis) / sumval\n"
     ]
    },
    {
     "data": {
      "image/png": "[encoded data removed]",
      "text/plain": [
       "<Figure size 432x288 with 1 Axes>"
      ]
     },
     "metadata": {
      "needs_background": "light"
     },
     "output_type": "display_data"
    }
   ],
   "source": [
    "#Density plot for One categorical value\n",
    "import seaborn as sns\n",
    "sns.distplot(cat1.pricepersqft)\n",
    "plt.show()"
   ]
  },
  {
   "cell_type": "code",
   "execution_count": 105,
   "metadata": {},
   "outputs": [
    {
     "data": {
      "text/plain": [
       "frequency     35\n",
       "mean_price    35\n",
       "dtype: int64"
      ]
     },
     "execution_count": 105,
     "metadata": {},
     "output_type": "execute_result"
    }
   ],
   "source": [
    "group[(mean_price<756)].count()\n",
    "#35 Neighborhood fall under low mean price category"
   ]
  },
  {
   "cell_type": "code",
   "execution_count": 106,
   "metadata": {},
   "outputs": [
    {
     "data": {
      "text/plain": [
       "frequency     36\n",
       "mean_price    36\n",
       "dtype: int64"
      ]
     },
     "execution_count": 106,
     "metadata": {},
     "output_type": "execute_result"
    }
   ],
   "source": [
    "group[(mean_price>756)].count()\n",
    "#36 Neighborhood fall under high price category"
   ]
  },
  {
   "cell_type": "markdown",
   "metadata": {},
   "source": [
    "Neighborhood with High frequency high price"
   ]
  },
  {
   "cell_type": "code",
   "execution_count": 107,
   "metadata": {
    "scrolled": true
   },
   "outputs": [
    {
     "data": {
      "text/plain": [
       "Index(['Bernal Heights', 'Cow Hollow', 'Downtown',\n",
       "       'Eureka Valley - Dolores Heights - Castro', 'Glen Park', 'Hayes Valley',\n",
       "       'Lake', 'Lower Pacific Heights', 'Marina', 'Miraloma Park', 'Mission',\n",
       "       'Nob Hill', 'Noe Valley', 'North Panhandle', 'Pacific Heights',\n",
       "       'Potrero Hill', 'Russian Hill', 'South Beach', 'South of Market',\n",
       "       'Van Ness - Civic Center', 'Yerba Buena'],\n",
       "      dtype='object', name='neighborhood')"
      ]
     },
     "execution_count": 107,
     "metadata": {},
     "output_type": "execute_result"
    }
   ],
   "source": [
    "group[(mean_price>756) & (frequency > 123)].count()\n",
    "#Count of high price and high frequency neighborhood is 21\n",
    "group1=group[(mean_price>756) & (frequency > 123)]\n",
    "group1.index"
   ]
  },
  {
   "cell_type": "markdown",
   "metadata": {},
   "source": [
    "Neighborhood with high price Low frequency"
   ]
  },
  {
   "cell_type": "code",
   "execution_count": 108,
   "metadata": {},
   "outputs": [
    {
     "data": {
      "text/plain": [
       "Index(['Buena Vista Park', 'Central Waterfront - Dogpatch', 'Corona Heights',\n",
       "       'Haight-Ashbury', 'Lakeside', 'Lone Mountain', 'Midtown Terrace',\n",
       "       'North Beach', 'North Waterfront', 'Parnassus - Ashbury',\n",
       "       'Presidio Heights', 'Sea Cliff', 'St. Francis Wood', 'Telegraph Hill',\n",
       "       'Twin Peaks'],\n",
       "      dtype='object', name='neighborhood')"
      ]
     },
     "execution_count": 108,
     "metadata": {},
     "output_type": "execute_result"
    }
   ],
   "source": [
    "#group[(mean_price>756) & (frequency < 123)].count()#15\n",
    "group2=group[(mean_price>756) & (frequency < 123)] \n",
    "group2.index"
   ]
  },
  {
   "cell_type": "code",
   "execution_count": 109,
   "metadata": {},
   "outputs": [
    {
     "data": {
      "text/plain": [
       "Index(['Daly City', 'Forest Hill', 'Forest Hill Extension',\n",
       "       'Golden Gate Heights', 'Ingleside', 'Ingleside Terrace',\n",
       "       'Inner Parkside', 'Lakeshore', 'Little Hollywood', 'Merced Heights',\n",
       "       'Mission Terrace', 'Mount Davidson Manor', 'Oceanview', 'Outer Mission',\n",
       "       'Silver Terrace', 'Sunnyside', 'West Portal', 'Western Addition',\n",
       "       'Westwood Highlands', 'Westwood Park'],\n",
       "      dtype='object', name='neighborhood')"
      ]
     },
     "execution_count": 109,
     "metadata": {},
     "output_type": "execute_result"
    }
   ],
   "source": [
    "#group[(mean_price<756) & (frequency < 123)].count()#20\n",
    "#Neighborhood with low price  low frequency\n",
    "group3=group[(mean_price<756) & (frequency < 123)]\n",
    "group3.index"
   ]
  },
  {
   "cell_type": "code",
   "execution_count": 110,
   "metadata": {},
   "outputs": [
    {
     "data": {
      "text/plain": [
       "Index(['Bayview', 'Central Richmond', 'Central Sunset', 'Crocker Amazon',\n",
       "       'Excelsior', 'Ingleside Heights', 'Inner Richmond', 'Inner Sunset',\n",
       "       'Outer Parkside', 'Outer Richmond', 'Outer Sunset', 'Parkside',\n",
       "       'Portola', 'Visitacion Valley'],\n",
       "      dtype='object', name='neighborhood')"
      ]
     },
     "execution_count": 110,
     "metadata": {},
     "output_type": "execute_result"
    }
   ],
   "source": [
    "group[(mean_price<756) & (frequency > 123)].count()#14\n",
    "#Neighborhood with low price high frequency\n",
    "group4=group[(mean_price<756) & (frequency > 123)]\n",
    "group4.index"
   ]
  },
  {
   "cell_type": "code",
   "execution_count": 111,
   "metadata": {},
   "outputs": [],
   "source": [
    "#Categorize neighborhood into high and low\n",
    "def get_group(x):\n",
    "    if x in group1.index:\n",
    "        return 'high_price_high_freq'\n",
    "    elif x in group2.index:\n",
    "        return 'high_price_low_freq'\n",
    "    elif x in group3.index:\n",
    "        return 'low_price_low_freq'\n",
    "    else:\n",
    "        return 'low_price_high_freq'\n",
    "df['group'] = df.neighborhood.apply(get_group)"
   ]
  },
  {
   "cell_type": "code",
   "execution_count": 112,
   "metadata": {},
   "outputs": [
    {
     "data": {
      "text/html": [
       "<div>\n",
       "<style scoped>\n",
       "    .dataframe tbody tr th:only-of-type {\n",
       "        vertical-align: middle;\n",
       "    }\n",
       "\n",
       "    .dataframe tbody tr th {\n",
       "        vertical-align: top;\n",
       "    }\n",
       "\n",
       "    .dataframe thead th {\n",
       "        text-align: right;\n",
       "    }\n",
       "</style>\n",
       "<table border=\"1\" class=\"dataframe\">\n",
       "  <thead>\n",
       "    <tr style=\"text-align: right;\">\n",
       "      <th></th>\n",
       "      <th>bathrooms</th>\n",
       "      <th>bedrooms</th>\n",
       "      <th>finishedsqft</th>\n",
       "      <th>lastsolddate</th>\n",
       "      <th>lastsoldprice</th>\n",
       "      <th>latitude</th>\n",
       "      <th>longitude</th>\n",
       "      <th>neighborhood</th>\n",
       "      <th>totalrooms</th>\n",
       "      <th>usecode</th>\n",
       "      <th>yearbuilt</th>\n",
       "      <th>zindexvalue</th>\n",
       "      <th>pricepersqft</th>\n",
       "      <th>group</th>\n",
       "    </tr>\n",
       "  </thead>\n",
       "  <tbody>\n",
       "    <tr>\n",
       "      <th>0</th>\n",
       "      <td>2.0</td>\n",
       "      <td>2</td>\n",
       "      <td>1043</td>\n",
       "      <td>02/17/2016</td>\n",
       "      <td>1300000</td>\n",
       "      <td>37.778705</td>\n",
       "      <td>-122.412635</td>\n",
       "      <td>South of Market</td>\n",
       "      <td>4</td>\n",
       "      <td>Condominium</td>\n",
       "      <td>2007</td>\n",
       "      <td>975700</td>\n",
       "      <td>1246.404602</td>\n",
       "      <td>high_price_high_freq</td>\n",
       "    </tr>\n",
       "    <tr>\n",
       "      <th>1</th>\n",
       "      <td>1.0</td>\n",
       "      <td>1</td>\n",
       "      <td>903</td>\n",
       "      <td>02/17/2016</td>\n",
       "      <td>750000</td>\n",
       "      <td>37.777641</td>\n",
       "      <td>-122.393417</td>\n",
       "      <td>South of Market</td>\n",
       "      <td>3</td>\n",
       "      <td>Condominium</td>\n",
       "      <td>2004</td>\n",
       "      <td>975700</td>\n",
       "      <td>830.564784</td>\n",
       "      <td>high_price_high_freq</td>\n",
       "    </tr>\n",
       "    <tr>\n",
       "      <th>2</th>\n",
       "      <td>4.0</td>\n",
       "      <td>3</td>\n",
       "      <td>1425</td>\n",
       "      <td>02/17/2016</td>\n",
       "      <td>1495000</td>\n",
       "      <td>37.759198</td>\n",
       "      <td>-122.396516</td>\n",
       "      <td>Potrero Hill</td>\n",
       "      <td>6</td>\n",
       "      <td>Condominium</td>\n",
       "      <td>2003</td>\n",
       "      <td>1277600</td>\n",
       "      <td>1049.122807</td>\n",
       "      <td>high_price_high_freq</td>\n",
       "    </tr>\n",
       "    <tr>\n",
       "      <th>3</th>\n",
       "      <td>3.0</td>\n",
       "      <td>3</td>\n",
       "      <td>2231</td>\n",
       "      <td>02/17/2016</td>\n",
       "      <td>2700000</td>\n",
       "      <td>37.761886</td>\n",
       "      <td>-122.396769</td>\n",
       "      <td>Potrero Hill</td>\n",
       "      <td>10</td>\n",
       "      <td>SingleFamily</td>\n",
       "      <td>1927</td>\n",
       "      <td>1277600</td>\n",
       "      <td>1210.219632</td>\n",
       "      <td>high_price_high_freq</td>\n",
       "    </tr>\n",
       "    <tr>\n",
       "      <th>4</th>\n",
       "      <td>3.0</td>\n",
       "      <td>3</td>\n",
       "      <td>1300</td>\n",
       "      <td>02/17/2016</td>\n",
       "      <td>1530000</td>\n",
       "      <td>37.740795</td>\n",
       "      <td>-122.413453</td>\n",
       "      <td>Bernal Heights</td>\n",
       "      <td>4</td>\n",
       "      <td>SingleFamily</td>\n",
       "      <td>1900</td>\n",
       "      <td>1248000</td>\n",
       "      <td>1176.923077</td>\n",
       "      <td>high_price_high_freq</td>\n",
       "    </tr>\n",
       "  </tbody>\n",
       "</table>\n",
       "</div>"
      ],
      "text/plain": [
       "   bathrooms  bedrooms  finishedsqft lastsolddate  lastsoldprice   latitude  \\\n",
       "0        2.0         2          1043   02/17/2016        1300000  37.778705   \n",
       "1        1.0         1           903   02/17/2016         750000  37.777641   \n",
       "2        4.0         3          1425   02/17/2016        1495000  37.759198   \n",
       "3        3.0         3          2231   02/17/2016        2700000  37.761886   \n",
       "4        3.0         3          1300   02/17/2016        1530000  37.740795   \n",
       "\n",
       "    longitude     neighborhood  totalrooms       usecode  yearbuilt  \\\n",
       "0 -122.412635  South of Market           4   Condominium       2007   \n",
       "1 -122.393417  South of Market           3   Condominium       2004   \n",
       "2 -122.396516     Potrero Hill           6   Condominium       2003   \n",
       "3 -122.396769     Potrero Hill          10  SingleFamily       1927   \n",
       "4 -122.413453   Bernal Heights           4  SingleFamily       1900   \n",
       "\n",
       "   zindexvalue  pricepersqft                 group  \n",
       "0       975700   1246.404602  high_price_high_freq  \n",
       "1       975700    830.564784  high_price_high_freq  \n",
       "2      1277600   1049.122807  high_price_high_freq  \n",
       "3      1277600   1210.219632  high_price_high_freq  \n",
       "4      1248000   1176.923077  high_price_high_freq  "
      ]
     },
     "execution_count": 112,
     "metadata": {},
     "output_type": "execute_result"
    }
   ],
   "source": [
    "df.head()"
   ]
  },
  {
   "cell_type": "code",
   "execution_count": 113,
   "metadata": {},
   "outputs": [
    {
     "data": {
      "text/html": [
       "<div>\n",
       "<style scoped>\n",
       "    .dataframe tbody tr th:only-of-type {\n",
       "        vertical-align: middle;\n",
       "    }\n",
       "\n",
       "    .dataframe tbody tr th {\n",
       "        vertical-align: top;\n",
       "    }\n",
       "\n",
       "    .dataframe thead th {\n",
       "        text-align: right;\n",
       "    }\n",
       "</style>\n",
       "<table border=\"1\" class=\"dataframe\">\n",
       "  <thead>\n",
       "    <tr style=\"text-align: right;\">\n",
       "      <th></th>\n",
       "      <th>bathrooms</th>\n",
       "      <th>bedrooms</th>\n",
       "      <th>finishedsqft</th>\n",
       "      <th>lastsolddate</th>\n",
       "      <th>lastsoldprice</th>\n",
       "      <th>latitude</th>\n",
       "      <th>longitude</th>\n",
       "      <th>totalrooms</th>\n",
       "      <th>usecode</th>\n",
       "      <th>yearbuilt</th>\n",
       "      <th>zindexvalue</th>\n",
       "      <th>pricepersqft</th>\n",
       "      <th>group</th>\n",
       "    </tr>\n",
       "  </thead>\n",
       "  <tbody>\n",
       "    <tr>\n",
       "      <th>0</th>\n",
       "      <td>2.0</td>\n",
       "      <td>2</td>\n",
       "      <td>1043</td>\n",
       "      <td>02/17/2016</td>\n",
       "      <td>1300000</td>\n",
       "      <td>37.778705</td>\n",
       "      <td>-122.412635</td>\n",
       "      <td>4</td>\n",
       "      <td>Condominium</td>\n",
       "      <td>2007</td>\n",
       "      <td>975700</td>\n",
       "      <td>1246.404602</td>\n",
       "      <td>high_price_high_freq</td>\n",
       "    </tr>\n",
       "    <tr>\n",
       "      <th>1</th>\n",
       "      <td>1.0</td>\n",
       "      <td>1</td>\n",
       "      <td>903</td>\n",
       "      <td>02/17/2016</td>\n",
       "      <td>750000</td>\n",
       "      <td>37.777641</td>\n",
       "      <td>-122.393417</td>\n",
       "      <td>3</td>\n",
       "      <td>Condominium</td>\n",
       "      <td>2004</td>\n",
       "      <td>975700</td>\n",
       "      <td>830.564784</td>\n",
       "      <td>high_price_high_freq</td>\n",
       "    </tr>\n",
       "    <tr>\n",
       "      <th>2</th>\n",
       "      <td>4.0</td>\n",
       "      <td>3</td>\n",
       "      <td>1425</td>\n",
       "      <td>02/17/2016</td>\n",
       "      <td>1495000</td>\n",
       "      <td>37.759198</td>\n",
       "      <td>-122.396516</td>\n",
       "      <td>6</td>\n",
       "      <td>Condominium</td>\n",
       "      <td>2003</td>\n",
       "      <td>1277600</td>\n",
       "      <td>1049.122807</td>\n",
       "      <td>high_price_high_freq</td>\n",
       "    </tr>\n",
       "    <tr>\n",
       "      <th>3</th>\n",
       "      <td>3.0</td>\n",
       "      <td>3</td>\n",
       "      <td>2231</td>\n",
       "      <td>02/17/2016</td>\n",
       "      <td>2700000</td>\n",
       "      <td>37.761886</td>\n",
       "      <td>-122.396769</td>\n",
       "      <td>10</td>\n",
       "      <td>SingleFamily</td>\n",
       "      <td>1927</td>\n",
       "      <td>1277600</td>\n",
       "      <td>1210.219632</td>\n",
       "      <td>high_price_high_freq</td>\n",
       "    </tr>\n",
       "    <tr>\n",
       "      <th>4</th>\n",
       "      <td>3.0</td>\n",
       "      <td>3</td>\n",
       "      <td>1300</td>\n",
       "      <td>02/17/2016</td>\n",
       "      <td>1530000</td>\n",
       "      <td>37.740795</td>\n",
       "      <td>-122.413453</td>\n",
       "      <td>4</td>\n",
       "      <td>SingleFamily</td>\n",
       "      <td>1900</td>\n",
       "      <td>1248000</td>\n",
       "      <td>1176.923077</td>\n",
       "      <td>high_price_high_freq</td>\n",
       "    </tr>\n",
       "  </tbody>\n",
       "</table>\n",
       "</div>"
      ],
      "text/plain": [
       "   bathrooms  bedrooms  finishedsqft lastsolddate  lastsoldprice   latitude  \\\n",
       "0        2.0         2          1043   02/17/2016        1300000  37.778705   \n",
       "1        1.0         1           903   02/17/2016         750000  37.777641   \n",
       "2        4.0         3          1425   02/17/2016        1495000  37.759198   \n",
       "3        3.0         3          2231   02/17/2016        2700000  37.761886   \n",
       "4        3.0         3          1300   02/17/2016        1530000  37.740795   \n",
       "\n",
       "    longitude  totalrooms       usecode  yearbuilt  zindexvalue  pricepersqft  \\\n",
       "0 -122.412635           4   Condominium       2007       975700   1246.404602   \n",
       "1 -122.393417           3   Condominium       2004       975700    830.564784   \n",
       "2 -122.396516           6   Condominium       2003      1277600   1049.122807   \n",
       "3 -122.396769          10  SingleFamily       1927      1277600   1210.219632   \n",
       "4 -122.413453           4  SingleFamily       1900      1248000   1176.923077   \n",
       "\n",
       "                  group  \n",
       "0  high_price_high_freq  \n",
       "1  high_price_high_freq  \n",
       "2  high_price_high_freq  \n",
       "3  high_price_high_freq  \n",
       "4  high_price_high_freq  "
      ]
     },
     "execution_count": 113,
     "metadata": {},
     "output_type": "execute_result"
    }
   ],
   "source": [
    "#Neighborhood is not required now so we can drop the feature\n",
    "df.drop(df.columns[7],inplace=True,axis=1)\n",
    "df.head()"
   ]
  },
  {
   "cell_type": "code",
   "execution_count": 114,
   "metadata": {},
   "outputs": [
    {
     "data": {
      "text/html": [
       "<div>\n",
       "<style scoped>\n",
       "    .dataframe tbody tr th:only-of-type {\n",
       "        vertical-align: middle;\n",
       "    }\n",
       "\n",
       "    .dataframe tbody tr th {\n",
       "        vertical-align: top;\n",
       "    }\n",
       "\n",
       "    .dataframe thead th {\n",
       "        text-align: right;\n",
       "    }\n",
       "</style>\n",
       "<table border=\"1\" class=\"dataframe\">\n",
       "  <thead>\n",
       "    <tr style=\"text-align: right;\">\n",
       "      <th></th>\n",
       "      <th>bathrooms</th>\n",
       "      <th>bedrooms</th>\n",
       "      <th>finishedsqft</th>\n",
       "      <th>lastsoldprice</th>\n",
       "      <th>totalrooms</th>\n",
       "      <th>usecode</th>\n",
       "      <th>yearbuilt</th>\n",
       "      <th>zindexvalue</th>\n",
       "      <th>pricepersqft</th>\n",
       "      <th>group</th>\n",
       "    </tr>\n",
       "  </thead>\n",
       "  <tbody>\n",
       "    <tr>\n",
       "      <th>0</th>\n",
       "      <td>2.0</td>\n",
       "      <td>2</td>\n",
       "      <td>1043</td>\n",
       "      <td>1300000</td>\n",
       "      <td>4</td>\n",
       "      <td>Condominium</td>\n",
       "      <td>2007</td>\n",
       "      <td>975700</td>\n",
       "      <td>1246.404602</td>\n",
       "      <td>high_price_high_freq</td>\n",
       "    </tr>\n",
       "    <tr>\n",
       "      <th>1</th>\n",
       "      <td>1.0</td>\n",
       "      <td>1</td>\n",
       "      <td>903</td>\n",
       "      <td>750000</td>\n",
       "      <td>3</td>\n",
       "      <td>Condominium</td>\n",
       "      <td>2004</td>\n",
       "      <td>975700</td>\n",
       "      <td>830.564784</td>\n",
       "      <td>high_price_high_freq</td>\n",
       "    </tr>\n",
       "    <tr>\n",
       "      <th>2</th>\n",
       "      <td>4.0</td>\n",
       "      <td>3</td>\n",
       "      <td>1425</td>\n",
       "      <td>1495000</td>\n",
       "      <td>6</td>\n",
       "      <td>Condominium</td>\n",
       "      <td>2003</td>\n",
       "      <td>1277600</td>\n",
       "      <td>1049.122807</td>\n",
       "      <td>high_price_high_freq</td>\n",
       "    </tr>\n",
       "    <tr>\n",
       "      <th>3</th>\n",
       "      <td>3.0</td>\n",
       "      <td>3</td>\n",
       "      <td>2231</td>\n",
       "      <td>2700000</td>\n",
       "      <td>10</td>\n",
       "      <td>SingleFamily</td>\n",
       "      <td>1927</td>\n",
       "      <td>1277600</td>\n",
       "      <td>1210.219632</td>\n",
       "      <td>high_price_high_freq</td>\n",
       "    </tr>\n",
       "    <tr>\n",
       "      <th>4</th>\n",
       "      <td>3.0</td>\n",
       "      <td>3</td>\n",
       "      <td>1300</td>\n",
       "      <td>1530000</td>\n",
       "      <td>4</td>\n",
       "      <td>SingleFamily</td>\n",
       "      <td>1900</td>\n",
       "      <td>1248000</td>\n",
       "      <td>1176.923077</td>\n",
       "      <td>high_price_high_freq</td>\n",
       "    </tr>\n",
       "  </tbody>\n",
       "</table>\n",
       "</div>"
      ],
      "text/plain": [
       "   bathrooms  bedrooms  finishedsqft  lastsoldprice  totalrooms       usecode  \\\n",
       "0        2.0         2          1043        1300000           4   Condominium   \n",
       "1        1.0         1           903         750000           3   Condominium   \n",
       "2        4.0         3          1425        1495000           6   Condominium   \n",
       "3        3.0         3          2231        2700000          10  SingleFamily   \n",
       "4        3.0         3          1300        1530000           4  SingleFamily   \n",
       "\n",
       "   yearbuilt  zindexvalue  pricepersqft                 group  \n",
       "0       2007       975700   1246.404602  high_price_high_freq  \n",
       "1       2004       975700    830.564784  high_price_high_freq  \n",
       "2       2003      1277600   1049.122807  high_price_high_freq  \n",
       "3       1927      1277600   1210.219632  high_price_high_freq  \n",
       "4       1900      1248000   1176.923077  high_price_high_freq  "
      ]
     },
     "execution_count": 114,
     "metadata": {},
     "output_type": "execute_result"
    }
   ],
   "source": [
    "#Droping other unnecessary columns\n",
    "df.drop(df.columns[[3, 5, 6]], axis=1, inplace=True)\n",
    "df.head()"
   ]
  },
  {
   "cell_type": "code",
   "execution_count": 115,
   "metadata": {},
   "outputs": [
    {
     "data": {
      "text/html": [
       "<div>\n",
       "<style scoped>\n",
       "    .dataframe tbody tr th:only-of-type {\n",
       "        vertical-align: middle;\n",
       "    }\n",
       "\n",
       "    .dataframe tbody tr th {\n",
       "        vertical-align: top;\n",
       "    }\n",
       "\n",
       "    .dataframe thead th {\n",
       "        text-align: right;\n",
       "    }\n",
       "</style>\n",
       "<table border=\"1\" class=\"dataframe\">\n",
       "  <thead>\n",
       "    <tr style=\"text-align: right;\">\n",
       "      <th></th>\n",
       "      <th>bathrooms</th>\n",
       "      <th>bedrooms</th>\n",
       "      <th>finishedsqft</th>\n",
       "      <th>totalrooms</th>\n",
       "      <th>usecode</th>\n",
       "      <th>yearbuilt</th>\n",
       "      <th>zindexvalue</th>\n",
       "      <th>group</th>\n",
       "      <th>lastsoldprice</th>\n",
       "    </tr>\n",
       "  </thead>\n",
       "  <tbody>\n",
       "    <tr>\n",
       "      <th>11320</th>\n",
       "      <td>1.0</td>\n",
       "      <td>2</td>\n",
       "      <td>1000</td>\n",
       "      <td>4</td>\n",
       "      <td>SingleFamily</td>\n",
       "      <td>1949</td>\n",
       "      <td>891600</td>\n",
       "      <td>low_price_high_freq</td>\n",
       "      <td>760000</td>\n",
       "    </tr>\n",
       "    <tr>\n",
       "      <th>11321</th>\n",
       "      <td>2.0</td>\n",
       "      <td>3</td>\n",
       "      <td>2250</td>\n",
       "      <td>8</td>\n",
       "      <td>SingleFamily</td>\n",
       "      <td>1910</td>\n",
       "      <td>1214400</td>\n",
       "      <td>high_price_high_freq</td>\n",
       "      <td>227500</td>\n",
       "    </tr>\n",
       "    <tr>\n",
       "      <th>11322</th>\n",
       "      <td>2.0</td>\n",
       "      <td>3</td>\n",
       "      <td>1806</td>\n",
       "      <td>7</td>\n",
       "      <td>SingleFamily</td>\n",
       "      <td>1924</td>\n",
       "      <td>986000</td>\n",
       "      <td>low_price_low_freq</td>\n",
       "      <td>1300000</td>\n",
       "    </tr>\n",
       "    <tr>\n",
       "      <th>11323</th>\n",
       "      <td>1.5</td>\n",
       "      <td>3</td>\n",
       "      <td>1200</td>\n",
       "      <td>5</td>\n",
       "      <td>SingleFamily</td>\n",
       "      <td>1941</td>\n",
       "      <td>720300</td>\n",
       "      <td>low_price_low_freq</td>\n",
       "      <td>810000</td>\n",
       "    </tr>\n",
       "    <tr>\n",
       "      <th>11324</th>\n",
       "      <td>1.0</td>\n",
       "      <td>2</td>\n",
       "      <td>884</td>\n",
       "      <td>5</td>\n",
       "      <td>Condominium</td>\n",
       "      <td>1918</td>\n",
       "      <td>1751900</td>\n",
       "      <td>high_price_high_freq</td>\n",
       "      <td>850000</td>\n",
       "    </tr>\n",
       "    <tr>\n",
       "      <th>11325</th>\n",
       "      <td>2.0</td>\n",
       "      <td>3</td>\n",
       "      <td>2100</td>\n",
       "      <td>10</td>\n",
       "      <td>SingleFamily</td>\n",
       "      <td>1900</td>\n",
       "      <td>1628900</td>\n",
       "      <td>high_price_high_freq</td>\n",
       "      <td>1950000</td>\n",
       "    </tr>\n",
       "    <tr>\n",
       "      <th>11326</th>\n",
       "      <td>2.0</td>\n",
       "      <td>2</td>\n",
       "      <td>977</td>\n",
       "      <td>5</td>\n",
       "      <td>MultiFamily2To4</td>\n",
       "      <td>2006</td>\n",
       "      <td>957300</td>\n",
       "      <td>high_price_high_freq</td>\n",
       "      <td>1030000</td>\n",
       "    </tr>\n",
       "    <tr>\n",
       "      <th>11327</th>\n",
       "      <td>1.0</td>\n",
       "      <td>2</td>\n",
       "      <td>875</td>\n",
       "      <td>4</td>\n",
       "      <td>SingleFamily</td>\n",
       "      <td>1950</td>\n",
       "      <td>804400</td>\n",
       "      <td>low_price_low_freq</td>\n",
       "      <td>565000</td>\n",
       "    </tr>\n",
       "    <tr>\n",
       "      <th>11328</th>\n",
       "      <td>1.0</td>\n",
       "      <td>2</td>\n",
       "      <td>697</td>\n",
       "      <td>4</td>\n",
       "      <td>SingleFamily</td>\n",
       "      <td>1904</td>\n",
       "      <td>1030300</td>\n",
       "      <td>low_price_high_freq</td>\n",
       "      <td>762000</td>\n",
       "    </tr>\n",
       "    <tr>\n",
       "      <th>11329</th>\n",
       "      <td>2.0</td>\n",
       "      <td>3</td>\n",
       "      <td>1539</td>\n",
       "      <td>7</td>\n",
       "      <td>SingleFamily</td>\n",
       "      <td>1976</td>\n",
       "      <td>1214400</td>\n",
       "      <td>high_price_high_freq</td>\n",
       "      <td>950000</td>\n",
       "    </tr>\n",
       "  </tbody>\n",
       "</table>\n",
       "</div>"
      ],
      "text/plain": [
       "       bathrooms  bedrooms  finishedsqft  totalrooms          usecode  \\\n",
       "11320        1.0         2          1000           4     SingleFamily   \n",
       "11321        2.0         3          2250           8     SingleFamily   \n",
       "11322        2.0         3          1806           7     SingleFamily   \n",
       "11323        1.5         3          1200           5     SingleFamily   \n",
       "11324        1.0         2           884           5      Condominium   \n",
       "11325        2.0         3          2100          10     SingleFamily   \n",
       "11326        2.0         2           977           5  MultiFamily2To4   \n",
       "11327        1.0         2           875           4     SingleFamily   \n",
       "11328        1.0         2           697           4     SingleFamily   \n",
       "11329        2.0         3          1539           7     SingleFamily   \n",
       "\n",
       "       yearbuilt  zindexvalue                 group  lastsoldprice  \n",
       "11320       1949       891600   low_price_high_freq         760000  \n",
       "11321       1910      1214400  high_price_high_freq         227500  \n",
       "11322       1924       986000    low_price_low_freq        1300000  \n",
       "11323       1941       720300    low_price_low_freq         810000  \n",
       "11324       1918      1751900  high_price_high_freq         850000  \n",
       "11325       1900      1628900  high_price_high_freq        1950000  \n",
       "11326       2006       957300  high_price_high_freq        1030000  \n",
       "11327       1950       804400    low_price_low_freq         565000  \n",
       "11328       1904      1030300   low_price_high_freq         762000  \n",
       "11329       1976      1214400  high_price_high_freq         950000  "
      ]
     },
     "execution_count": 115,
     "metadata": {},
     "output_type": "execute_result"
    }
   ],
   "source": [
    "df1 = df\n",
    "df = df[['bathrooms', 'bedrooms', 'finishedsqft', 'totalrooms', 'usecode', 'yearbuilt', 'zindexvalue', 'group', 'lastsoldprice']]\n",
    "df.tail(10)"
   ]
  },
  {
   "cell_type": "code",
   "execution_count": 116,
   "metadata": {
    "scrolled": true
   },
   "outputs": [
    {
     "name": "stderr",
     "output_type": "stream",
     "text": [
      "C:\\ProgramData\\Anaconda3\\lib\\site-packages\\pandas\\core\\frame.py:3697: SettingWithCopyWarning: \n",
      "A value is trying to be set on a copy of a slice from a DataFrame\n",
      "\n",
      "See the caveats in the documentation: http://pandas.pydata.org/pandas-docs/stable/indexing.html#indexing-view-versus-copy\n",
      "  errors=errors)\n"
     ]
    },
    {
     "data": {
      "text/html": [
       "<div>\n",
       "<style scoped>\n",
       "    .dataframe tbody tr th:only-of-type {\n",
       "        vertical-align: middle;\n",
       "    }\n",
       "\n",
       "    .dataframe tbody tr th {\n",
       "        vertical-align: top;\n",
       "    }\n",
       "\n",
       "    .dataframe thead th {\n",
       "        text-align: right;\n",
       "    }\n",
       "</style>\n",
       "<table border=\"1\" class=\"dataframe\">\n",
       "  <thead>\n",
       "    <tr style=\"text-align: right;\">\n",
       "      <th></th>\n",
       "      <th>bathrooms</th>\n",
       "      <th>bedrooms</th>\n",
       "      <th>finishedsqft</th>\n",
       "      <th>totalrooms</th>\n",
       "      <th>usecode</th>\n",
       "      <th>zindexvalue</th>\n",
       "      <th>group</th>\n",
       "      <th>lastsoldprice</th>\n",
       "    </tr>\n",
       "  </thead>\n",
       "  <tbody>\n",
       "    <tr>\n",
       "      <th>0</th>\n",
       "      <td>2.0</td>\n",
       "      <td>2</td>\n",
       "      <td>1043</td>\n",
       "      <td>4</td>\n",
       "      <td>Condominium</td>\n",
       "      <td>975700</td>\n",
       "      <td>high_price_high_freq</td>\n",
       "      <td>1300000</td>\n",
       "    </tr>\n",
       "    <tr>\n",
       "      <th>1</th>\n",
       "      <td>1.0</td>\n",
       "      <td>1</td>\n",
       "      <td>903</td>\n",
       "      <td>3</td>\n",
       "      <td>Condominium</td>\n",
       "      <td>975700</td>\n",
       "      <td>high_price_high_freq</td>\n",
       "      <td>750000</td>\n",
       "    </tr>\n",
       "    <tr>\n",
       "      <th>2</th>\n",
       "      <td>4.0</td>\n",
       "      <td>3</td>\n",
       "      <td>1425</td>\n",
       "      <td>6</td>\n",
       "      <td>Condominium</td>\n",
       "      <td>1277600</td>\n",
       "      <td>high_price_high_freq</td>\n",
       "      <td>1495000</td>\n",
       "    </tr>\n",
       "    <tr>\n",
       "      <th>3</th>\n",
       "      <td>3.0</td>\n",
       "      <td>3</td>\n",
       "      <td>2231</td>\n",
       "      <td>10</td>\n",
       "      <td>SingleFamily</td>\n",
       "      <td>1277600</td>\n",
       "      <td>high_price_high_freq</td>\n",
       "      <td>2700000</td>\n",
       "    </tr>\n",
       "    <tr>\n",
       "      <th>4</th>\n",
       "      <td>3.0</td>\n",
       "      <td>3</td>\n",
       "      <td>1300</td>\n",
       "      <td>4</td>\n",
       "      <td>SingleFamily</td>\n",
       "      <td>1248000</td>\n",
       "      <td>high_price_high_freq</td>\n",
       "      <td>1530000</td>\n",
       "    </tr>\n",
       "  </tbody>\n",
       "</table>\n",
       "</div>"
      ],
      "text/plain": [
       "   bathrooms  bedrooms  finishedsqft  totalrooms       usecode  zindexvalue  \\\n",
       "0        2.0         2          1043           4   Condominium       975700   \n",
       "1        1.0         1           903           3   Condominium       975700   \n",
       "2        4.0         3          1425           6   Condominium      1277600   \n",
       "3        3.0         3          2231          10  SingleFamily      1277600   \n",
       "4        3.0         3          1300           4  SingleFamily      1248000   \n",
       "\n",
       "                  group  lastsoldprice  \n",
       "0  high_price_high_freq        1300000  \n",
       "1  high_price_high_freq         750000  \n",
       "2  high_price_high_freq        1495000  \n",
       "3  high_price_high_freq        2700000  \n",
       "4  high_price_high_freq        1530000  "
      ]
     },
     "execution_count": 116,
     "metadata": {},
     "output_type": "execute_result"
    }
   ],
   "source": [
    "df.drop(df.columns[5], axis=1,inplace =True)\n",
    "df.head()"
   ]
  },
  {
   "cell_type": "code",
   "execution_count": 117,
   "metadata": {},
   "outputs": [],
   "source": [
    "X=df[['bathrooms','bedrooms','finishedsqft','totalrooms','usecode','zindexvalue','group']]\n",
    "Y=df['lastsoldprice']"
   ]
  },
  {
   "cell_type": "code",
   "execution_count": 118,
   "metadata": {},
   "outputs": [
    {
     "data": {
      "text/html": [
       "<div>\n",
       "<style scoped>\n",
       "    .dataframe tbody tr th:only-of-type {\n",
       "        vertical-align: middle;\n",
       "    }\n",
       "\n",
       "    .dataframe tbody tr th {\n",
       "        vertical-align: top;\n",
       "    }\n",
       "\n",
       "    .dataframe thead th {\n",
       "        text-align: right;\n",
       "    }\n",
       "</style>\n",
       "<table border=\"1\" class=\"dataframe\">\n",
       "  <thead>\n",
       "    <tr style=\"text-align: right;\">\n",
       "      <th></th>\n",
       "      <th>bathrooms</th>\n",
       "      <th>bedrooms</th>\n",
       "      <th>finishedsqft</th>\n",
       "      <th>totalrooms</th>\n",
       "      <th>zindexvalue</th>\n",
       "      <th>high_price_high_freq</th>\n",
       "      <th>high_price_low_freq</th>\n",
       "      <th>low_price_high_freq</th>\n",
       "      <th>low_price_low_freq</th>\n",
       "      <th>Apartment</th>\n",
       "      <th>Condominium</th>\n",
       "      <th>Cooperative</th>\n",
       "      <th>Duplex</th>\n",
       "      <th>Miscellaneous</th>\n",
       "      <th>Mobile</th>\n",
       "      <th>MultiFamily2To4</th>\n",
       "      <th>MultiFamily5Plus</th>\n",
       "      <th>SingleFamily</th>\n",
       "      <th>Townhouse</th>\n",
       "    </tr>\n",
       "  </thead>\n",
       "  <tbody>\n",
       "    <tr>\n",
       "      <th>0</th>\n",
       "      <td>2.0</td>\n",
       "      <td>2</td>\n",
       "      <td>1043</td>\n",
       "      <td>4</td>\n",
       "      <td>975700</td>\n",
       "      <td>1</td>\n",
       "      <td>0</td>\n",
       "      <td>0</td>\n",
       "      <td>0</td>\n",
       "      <td>0</td>\n",
       "      <td>1</td>\n",
       "      <td>0</td>\n",
       "      <td>0</td>\n",
       "      <td>0</td>\n",
       "      <td>0</td>\n",
       "      <td>0</td>\n",
       "      <td>0</td>\n",
       "      <td>0</td>\n",
       "      <td>0</td>\n",
       "    </tr>\n",
       "    <tr>\n",
       "      <th>1</th>\n",
       "      <td>1.0</td>\n",
       "      <td>1</td>\n",
       "      <td>903</td>\n",
       "      <td>3</td>\n",
       "      <td>975700</td>\n",
       "      <td>1</td>\n",
       "      <td>0</td>\n",
       "      <td>0</td>\n",
       "      <td>0</td>\n",
       "      <td>0</td>\n",
       "      <td>1</td>\n",
       "      <td>0</td>\n",
       "      <td>0</td>\n",
       "      <td>0</td>\n",
       "      <td>0</td>\n",
       "      <td>0</td>\n",
       "      <td>0</td>\n",
       "      <td>0</td>\n",
       "      <td>0</td>\n",
       "    </tr>\n",
       "    <tr>\n",
       "      <th>2</th>\n",
       "      <td>4.0</td>\n",
       "      <td>3</td>\n",
       "      <td>1425</td>\n",
       "      <td>6</td>\n",
       "      <td>1277600</td>\n",
       "      <td>1</td>\n",
       "      <td>0</td>\n",
       "      <td>0</td>\n",
       "      <td>0</td>\n",
       "      <td>0</td>\n",
       "      <td>1</td>\n",
       "      <td>0</td>\n",
       "      <td>0</td>\n",
       "      <td>0</td>\n",
       "      <td>0</td>\n",
       "      <td>0</td>\n",
       "      <td>0</td>\n",
       "      <td>0</td>\n",
       "      <td>0</td>\n",
       "    </tr>\n",
       "    <tr>\n",
       "      <th>3</th>\n",
       "      <td>3.0</td>\n",
       "      <td>3</td>\n",
       "      <td>2231</td>\n",
       "      <td>10</td>\n",
       "      <td>1277600</td>\n",
       "      <td>1</td>\n",
       "      <td>0</td>\n",
       "      <td>0</td>\n",
       "      <td>0</td>\n",
       "      <td>0</td>\n",
       "      <td>0</td>\n",
       "      <td>0</td>\n",
       "      <td>0</td>\n",
       "      <td>0</td>\n",
       "      <td>0</td>\n",
       "      <td>0</td>\n",
       "      <td>0</td>\n",
       "      <td>1</td>\n",
       "      <td>0</td>\n",
       "    </tr>\n",
       "    <tr>\n",
       "      <th>4</th>\n",
       "      <td>3.0</td>\n",
       "      <td>3</td>\n",
       "      <td>1300</td>\n",
       "      <td>4</td>\n",
       "      <td>1248000</td>\n",
       "      <td>1</td>\n",
       "      <td>0</td>\n",
       "      <td>0</td>\n",
       "      <td>0</td>\n",
       "      <td>0</td>\n",
       "      <td>0</td>\n",
       "      <td>0</td>\n",
       "      <td>0</td>\n",
       "      <td>0</td>\n",
       "      <td>0</td>\n",
       "      <td>0</td>\n",
       "      <td>0</td>\n",
       "      <td>1</td>\n",
       "      <td>0</td>\n",
       "    </tr>\n",
       "  </tbody>\n",
       "</table>\n",
       "</div>"
      ],
      "text/plain": [
       "   bathrooms  bedrooms  finishedsqft  totalrooms  zindexvalue  \\\n",
       "0        2.0         2          1043           4       975700   \n",
       "1        1.0         1           903           3       975700   \n",
       "2        4.0         3          1425           6      1277600   \n",
       "3        3.0         3          2231          10      1277600   \n",
       "4        3.0         3          1300           4      1248000   \n",
       "\n",
       "   high_price_high_freq  high_price_low_freq  low_price_high_freq  \\\n",
       "0                     1                    0                    0   \n",
       "1                     1                    0                    0   \n",
       "2                     1                    0                    0   \n",
       "3                     1                    0                    0   \n",
       "4                     1                    0                    0   \n",
       "\n",
       "   low_price_low_freq  Apartment  Condominium  Cooperative  Duplex  \\\n",
       "0                   0          0            1            0       0   \n",
       "1                   0          0            1            0       0   \n",
       "2                   0          0            1            0       0   \n",
       "3                   0          0            0            0       0   \n",
       "4                   0          0            0            0       0   \n",
       "\n",
       "   Miscellaneous  Mobile  MultiFamily2To4  MultiFamily5Plus  SingleFamily  \\\n",
       "0              0       0                0                 0             0   \n",
       "1              0       0                0                 0             0   \n",
       "2              0       0                0                 0             0   \n",
       "3              0       0                0                 0             1   \n",
       "4              0       0                0                 0             1   \n",
       "\n",
       "   Townhouse  \n",
       "0          0  \n",
       "1          0  \n",
       "2          0  \n",
       "3          0  \n",
       "4          0  "
      ]
     },
     "execution_count": 118,
     "metadata": {},
     "output_type": "execute_result"
    }
   ],
   "source": [
    "#Hot encoding of the Categorical data\n",
    "g= pd.get_dummies(df.group)\n",
    "u = pd.get_dummies(df.usecode)\n",
    "X = pd.concat([X, g, u], axis=1)\n",
    "drops = ['group', 'usecode']\n",
    "X.drop(drops, inplace=True, axis=1)\n",
    "X.head()"
   ]
  },
  {
   "cell_type": "markdown",
   "metadata": {},
   "source": [
    "Now that we have data with right features for predictions in hand we will train data with different models and chosse the best model using model evaluation techniques.\n",
    "Train the model usind Train data and then test using test data.\n",
    "To split our dataset into Test and Train I am using train_test_split from sklearn library  "
   ]
  },
  {
   "cell_type": "code",
   "execution_count": 119,
   "metadata": {},
   "outputs": [],
   "source": [
    "#Split the data into train and test for model training and testing\n",
    "from sklearn.cross_validation import train_test_split\n",
    "X_train, X_test, y_train, y_test = train_test_split(X, Y, test_size=0.3, random_state=0)\n",
    "\n"
   ]
  },
  {
   "cell_type": "markdown",
   "metadata": {},
   "source": [
    "Linear Regression Model"
   ]
  },
  {
   "cell_type": "code",
   "execution_count": 120,
   "metadata": {},
   "outputs": [
    {
     "data": {
      "text/plain": [
       "LinearRegression(copy_X=True, fit_intercept=True, n_jobs=1, normalize=False)"
      ]
     },
     "execution_count": 120,
     "metadata": {},
     "output_type": "execute_result"
    }
   ],
   "source": [
    "from sklearn.linear_model import LinearRegression\n",
    "Lineaarregressor = LinearRegression()\n",
    "Lineaarregressor.fit(X_train, y_train)"
   ]
  },
  {
   "cell_type": "code",
   "execution_count": 121,
   "metadata": {},
   "outputs": [
    {
     "name": "stdout",
     "output_type": "stream",
     "text": [
      " R squared: 0.55766\n"
     ]
    }
   ],
   "source": [
    "#Now that we have trained the model I can use it to predict the response value.\n",
    "y_pred = Lineaarregressor.predict(X_test)\n",
    "print(' R squared: %.5f' % Lineaarregressor.score(X_test, y_test))"
   ]
  },
  {
   "cell_type": "markdown",
   "metadata": {},
   "source": [
    "The Value of R square is quite small ,ie 55.766% of the Variablity of lastsoldprice(Y) is explained by features \"X\"\n",
    "So I will go ahead to use another model evaluation technique I will use RMSE"
   ]
  },
  {
   "cell_type": "code",
   "execution_count": 122,
   "metadata": {},
   "outputs": [
    {
     "name": "stdout",
     "output_type": "stream",
     "text": [
      "Liner Regression RMSE: 619063.00652\n"
     ]
    }
   ],
   "source": [
    "from sklearn.metrics import mean_squared_error\n",
    "linear_mse = mean_squared_error(y_pred, y_test)\n",
    "linear_rmse = np.sqrt(linear_mse)\n",
    "print('Liner Regression RMSE: %.5f' % linear_rmse)"
   ]
  },
  {
   "cell_type": "markdown",
   "metadata": {},
   "source": [
    "Model was able to predict the value of every house in test case within  $619063 of the real price\n",
    "I will use another model to train our data set "
   ]
  },
  {
   "cell_type": "markdown",
   "metadata": {},
   "source": [
    "Random Forest Model"
   ]
  },
  {
   "cell_type": "code",
   "execution_count": 123,
   "metadata": {},
   "outputs": [
    {
     "data": {
      "text/plain": [
       "RandomForestRegressor(bootstrap=True, criterion='mse', max_depth=None,\n",
       "           max_features='auto', max_leaf_nodes=None,\n",
       "           min_impurity_decrease=0.0, min_impurity_split=None,\n",
       "           min_samples_leaf=1, min_samples_split=2,\n",
       "           min_weight_fraction_leaf=0.0, n_estimators=10, n_jobs=1,\n",
       "           oob_score=False, random_state=42, verbose=0, warm_start=False)"
      ]
     },
     "execution_count": 123,
     "metadata": {},
     "output_type": "execute_result"
    }
   ],
   "source": [
    "from sklearn.ensemble import RandomForestRegressor\n",
    "forest_regression = RandomForestRegressor(random_state=42)\n",
    "forest_regression.fit(X_train, y_train)"
   ]
  },
  {
   "cell_type": "code",
   "execution_count": 124,
   "metadata": {
    "scrolled": true
   },
   "outputs": [
    {
     "name": "stdout",
     "output_type": "stream",
     "text": [
      "Random Forest R squared\": 0.6614\n"
     ]
    }
   ],
   "source": [
    "y_pred = forest_regression.predict(X_test)\n",
    "print('Random Forest R squared\": %.4f' % forest_regression.score(X_test, y_test))"
   ]
  },
  {
   "cell_type": "markdown",
   "metadata": {},
   "source": [
    "The Value of R square is better than the value calculated using linear regression model ,ie 66.14% of the Variablity of lastsoldprice(Y) is explained by features \"X\"\n",
    "We will use another model evaluation technique RMSE"
   ]
  },
  {
   "cell_type": "code",
   "execution_count": 125,
   "metadata": {},
   "outputs": [
    {
     "name": "stdout",
     "output_type": "stream",
     "text": [
      "Random Forest RMSE: 541593.00201\n"
     ]
    }
   ],
   "source": [
    "forest_mse = mean_squared_error(y_pred, y_test)\n",
    "forest_rmse = np.sqrt(forest_mse)\n",
    "print('Random Forest RMSE: %.5f' % forest_rmse)"
   ]
  },
  {
   "cell_type": "markdown",
   "metadata": {},
   "source": [
    "Random forest Model was able to predict the value of every house in test case within  $541593 of the real price"
   ]
  },
  {
   "cell_type": "markdown",
   "metadata": {},
   "source": [
    "Gradient Boosting Model"
   ]
  },
  {
   "cell_type": "code",
   "execution_count": 126,
   "metadata": {},
   "outputs": [
    {
     "data": {
      "text/plain": [
       "GradientBoostingRegressor(alpha=0.9, criterion='friedman_mse', init=None,\n",
       "             learning_rate=0.1, loss='ls', max_depth=3, max_features=None,\n",
       "             max_leaf_nodes=None, min_impurity_decrease=0.0,\n",
       "             min_impurity_split=None, min_samples_leaf=1,\n",
       "             min_samples_split=2, min_weight_fraction_leaf=0.0,\n",
       "             n_estimators=100, presort='auto', random_state=None,\n",
       "             subsample=1.0, verbose=0, warm_start=False)"
      ]
     },
     "execution_count": 126,
     "metadata": {},
     "output_type": "execute_result"
    }
   ],
   "source": [
    "from sklearn import ensemble\n",
    "from sklearn.ensemble import GradientBoostingRegressor\n",
    "model = ensemble.GradientBoostingRegressor()\n",
    "model.fit(X_train, y_train)"
   ]
  },
  {
   "cell_type": "code",
   "execution_count": 127,
   "metadata": {},
   "outputs": [
    {
     "name": "stdout",
     "output_type": "stream",
     "text": [
      "Gradient Boosting R squared\": 0.6653\n"
     ]
    }
   ],
   "source": [
    "y_pred = model.predict(X_test)\n",
    "print('Gradient Boosting R squared\": %.4f' % model.score(X_test, y_test))"
   ]
  },
  {
   "cell_type": "markdown",
   "metadata": {},
   "source": [
    "The Value of R square is better than the value calculated using linear regression model ,ie 66.26% of the Variablity of lastsoldprice(Y) is explained by features \"X\". The value is better then Linear Regression and Random Forest Model\n",
    "We will use another model evaluation technique RMSE"
   ]
  },
  {
   "cell_type": "code",
   "execution_count": 128,
   "metadata": {},
   "outputs": [
    {
     "name": "stdout",
     "output_type": "stream",
     "text": [
      "Gradient Boosting RMSE: 538537.0618\n"
     ]
    }
   ],
   "source": [
    "model_mse = mean_squared_error(y_pred, y_test)\n",
    "model_rmse = np.sqrt(model_mse)\n",
    "print('Gradient Boosting RMSE: %.4f' % model_rmse)"
   ]
  },
  {
   "cell_type": "markdown",
   "metadata": {},
   "source": [
    "Gradient Boosting Model was able to predict the value of every house in test case within  $538612 of the real price"
   ]
  },
  {
   "cell_type": "markdown",
   "metadata": {},
   "source": [
    "From the 3 models used above gradient Boosting gives best results with less Variablity so we can use \"Gradient Boosting\" model to predict the value of homes in the future."
   ]
  },
  {
   "cell_type": "markdown",
   "metadata": {},
   "source": [
    "We can use cross validation technique (KFolds cross validation ) for model selection and evaluation"
   ]
  },
  {
   "cell_type": "code",
   "execution_count": 129,
   "metadata": {},
   "outputs": [],
   "source": [
    "#Function for training and testing dataset with different models\n",
    "def get_score(model,X_train,X_test,y_train,y_test):\n",
    "    model.fit(X_train,y_train)\n",
    "    return model.score(X_test,y_test)"
   ]
  },
  {
   "cell_type": "code",
   "execution_count": 130,
   "metadata": {},
   "outputs": [
    {
     "name": "stderr",
     "output_type": "stream",
     "text": [
      "C:\\ProgramData\\Anaconda3\\lib\\site-packages\\sklearn\\model_selection\\_split.py:605: Warning: The least populated class in y has only 1 members, which is too few. The minimum number of members in any class cannot be less than n_splits=5.\n",
      "  % (min_groups, self.n_splits)), Warning)\n"
     ]
    }
   ],
   "source": [
    "#Creating a empty list to store scores calculated by using KFolds technique \n",
    "score_regression=[]\n",
    "score_randomforest=[]\n",
    "score_gradientboost=[]\n",
    "#Selecting StratifiedKFold Technique for Model Selection from Sklearn\n",
    "from sklearn.model_selection import StratifiedKFold\n",
    "folds=StratifiedKFold(n_splits=5)#Selecting the value of folds to 5\n",
    "#Splitting data into test and train\n",
    "for train_index , test_index in folds.split(X,Y):\n",
    "    X_train,X_test = X.iloc[train_index] , X.iloc[test_index]\n",
    "    y_train,y_test = Y.iloc[train_index] , Y.iloc[test_index]\n",
    "    score_regression.append(get_score(LinearRegression(),X_train,X_test,y_train,y_test))\n",
    "    score_randomforest.append(get_score(RandomForestRegressor(random_state=21),X_train,X_test,y_train,y_test))\n",
    "    score_gradientboost.append(get_score(ensemble.GradientBoostingRegressor(random_state=21),X_train,X_test,y_train,y_test))"
   ]
  },
  {
   "cell_type": "code",
   "execution_count": 131,
   "metadata": {},
   "outputs": [
    {
     "data": {
      "text/plain": [
       "0.44153925993359655"
      ]
     },
     "execution_count": 131,
     "metadata": {},
     "output_type": "execute_result"
    }
   ],
   "source": [
    "sum(score_regression)/len(score_regression)"
   ]
  },
  {
   "cell_type": "code",
   "execution_count": 132,
   "metadata": {
    "scrolled": true
   },
   "outputs": [
    {
     "data": {
      "text/plain": [
       "0.5414505117871723"
      ]
     },
     "execution_count": 132,
     "metadata": {},
     "output_type": "execute_result"
    }
   ],
   "source": [
    "sum(score_randomforest)/len(score_randomforest)"
   ]
  },
  {
   "cell_type": "code",
   "execution_count": 133,
   "metadata": {},
   "outputs": [
    {
     "data": {
      "text/plain": [
       "0.5952842474768808"
      ]
     },
     "execution_count": 133,
     "metadata": {},
     "output_type": "execute_result"
    }
   ],
   "source": [
    "sum(score_gradientboost)/len(score_gradientboost)"
   ]
  },
  {
   "cell_type": "markdown",
   "metadata": {},
   "source": [
    "Gradient Boosting Model was able to predict results better then Random Forest and Linear Regression"
   ]
  }
 ],
 "metadata": {
  "kernelspec": {
   "display_name": "Python 3",
   "language": "python",
   "name": "python3"
  },
  "language_info": {
   "codemirror_mode": {
    "name": "ipython",
    "version": 3
   },
   "file_extension": ".py",
   "mimetype": "text/x-python",
   "name": "python",
   "nbconvert_exporter": "python",
   "pygments_lexer": "ipython3",
   "version": "3.7.0"
  }
 },
 "nbformat": 4,
 "nbformat_minor": 2
}
